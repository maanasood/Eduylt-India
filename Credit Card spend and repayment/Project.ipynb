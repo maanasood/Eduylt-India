{
 "cells": [
  {
   "cell_type": "markdown",
   "id": "d48c0bc4",
   "metadata": {},
   "source": [
    "**IMPORTANT!!!**      \n",
    "Before running the file, please make sure you have installed the required packages:  \n",
    "    pandas, numpy, matplotlib, seaborn\n"
   ]
  },
  {
   "cell_type": "markdown",
   "id": "f44951f6",
   "metadata": {},
   "source": [
    "# Importing the necessary packages"
   ]
  },
  {
   "cell_type": "code",
   "execution_count": 1,
   "id": "35f08db1",
   "metadata": {},
   "outputs": [],
   "source": [
    "import pandas as pd\n",
    "import numpy as np\n",
    "import matplotlib.pyplot as plt\n",
    "import seaborn as sns\n",
    "import calendar"
   ]
  },
  {
   "cell_type": "markdown",
   "id": "d5f1985c",
   "metadata": {},
   "source": [
    "# Importing the data"
   ]
  },
  {
   "cell_type": "markdown",
   "id": "83a22968",
   "metadata": {},
   "source": [
    "We have a datafile with 3 sheets containing the dataset. The first step is to load the data in python. To do so, we use pandas dataframes as they are a great tool for storing and evaluating tables."
   ]
  },
  {
   "cell_type": "code",
   "execution_count": 2,
   "id": "e8ed76ea",
   "metadata": {},
   "outputs": [],
   "source": [
    "data=pd.read_csv('personal_data.csv',index_col='Sl No:')\n",
    "spend=pd.read_csv('spend.csv',index_col='Sl No:')\n",
    "repayment=pd.read_csv('repayment.csv',index_col='SL No:')"
   ]
  },
  {
   "cell_type": "markdown",
   "id": "3f5b8d24",
   "metadata": {},
   "source": [
    "Check how our given data looks."
   ]
  },
  {
   "cell_type": "code",
   "execution_count": 3,
   "id": "a712d235",
   "metadata": {},
   "outputs": [
    {
     "data": {
      "text/html": [
       "<div>\n",
       "<style scoped>\n",
       "    .dataframe tbody tr th:only-of-type {\n",
       "        vertical-align: middle;\n",
       "    }\n",
       "\n",
       "    .dataframe tbody tr th {\n",
       "        vertical-align: top;\n",
       "    }\n",
       "\n",
       "    .dataframe thead th {\n",
       "        text-align: right;\n",
       "    }\n",
       "</style>\n",
       "<table border=\"1\" class=\"dataframe\">\n",
       "  <thead>\n",
       "    <tr style=\"text-align: right;\">\n",
       "      <th></th>\n",
       "      <th>Customer</th>\n",
       "      <th>Age</th>\n",
       "      <th>City</th>\n",
       "      <th>Credit Card Product</th>\n",
       "      <th>Limit</th>\n",
       "      <th>Company</th>\n",
       "      <th>Segment</th>\n",
       "    </tr>\n",
       "    <tr>\n",
       "      <th>Sl No:</th>\n",
       "      <th></th>\n",
       "      <th></th>\n",
       "      <th></th>\n",
       "      <th></th>\n",
       "      <th></th>\n",
       "      <th></th>\n",
       "      <th></th>\n",
       "    </tr>\n",
       "  </thead>\n",
       "  <tbody>\n",
       "    <tr>\n",
       "      <th>1</th>\n",
       "      <td>A1</td>\n",
       "      <td>0.9285</td>\n",
       "      <td>BANGALORE</td>\n",
       "      <td>Gold</td>\n",
       "      <td>INR 500,000.00</td>\n",
       "      <td>C1</td>\n",
       "      <td>Self Employed</td>\n",
       "    </tr>\n",
       "    <tr>\n",
       "      <th>2</th>\n",
       "      <td>A2</td>\n",
       "      <td>35.5346</td>\n",
       "      <td>CALCUTTA</td>\n",
       "      <td>Silver</td>\n",
       "      <td>INR 100,000.00</td>\n",
       "      <td>C2</td>\n",
       "      <td>Salaried_MNC</td>\n",
       "    </tr>\n",
       "    <tr>\n",
       "      <th>3</th>\n",
       "      <td>A3</td>\n",
       "      <td>11.5593</td>\n",
       "      <td>COCHIN</td>\n",
       "      <td>Platimum</td>\n",
       "      <td>INR 10,000.00</td>\n",
       "      <td>C3</td>\n",
       "      <td>Salaried_Pvt</td>\n",
       "    </tr>\n",
       "    <tr>\n",
       "      <th>4</th>\n",
       "      <td>A4</td>\n",
       "      <td>45.8203</td>\n",
       "      <td>BOMBAY</td>\n",
       "      <td>Platimum</td>\n",
       "      <td>INR 10,001.00</td>\n",
       "      <td>C4</td>\n",
       "      <td>Govt</td>\n",
       "    </tr>\n",
       "    <tr>\n",
       "      <th>5</th>\n",
       "      <td>A5</td>\n",
       "      <td>69.6639</td>\n",
       "      <td>BANGALORE</td>\n",
       "      <td>Platimum</td>\n",
       "      <td>INR 10,002.00</td>\n",
       "      <td>C5</td>\n",
       "      <td>Normal Salary</td>\n",
       "    </tr>\n",
       "  </tbody>\n",
       "</table>\n",
       "</div>"
      ],
      "text/plain": [
       "       Customer      Age       City Credit Card Product           Limit  \\\n",
       "Sl No:                                                                    \n",
       "1            A1   0.9285  BANGALORE                Gold  INR 500,000.00   \n",
       "2            A2  35.5346   CALCUTTA              Silver  INR 100,000.00   \n",
       "3            A3  11.5593     COCHIN            Platimum   INR 10,000.00   \n",
       "4            A4  45.8203     BOMBAY            Platimum   INR 10,001.00   \n",
       "5            A5  69.6639  BANGALORE            Platimum   INR 10,002.00   \n",
       "\n",
       "       Company        Segment  \n",
       "Sl No:                         \n",
       "1           C1  Self Employed  \n",
       "2           C2   Salaried_MNC  \n",
       "3           C3   Salaried_Pvt  \n",
       "4           C4           Govt  \n",
       "5           C5  Normal Salary  "
      ]
     },
     "execution_count": 3,
     "metadata": {},
     "output_type": "execute_result"
    }
   ],
   "source": [
    "data.head()"
   ]
  },
  {
   "cell_type": "code",
   "execution_count": 4,
   "id": "97d8f0ea",
   "metadata": {
    "scrolled": true
   },
   "outputs": [
    {
     "data": {
      "text/html": [
       "<div>\n",
       "<style scoped>\n",
       "    .dataframe tbody tr th:only-of-type {\n",
       "        vertical-align: middle;\n",
       "    }\n",
       "\n",
       "    .dataframe tbody tr th {\n",
       "        vertical-align: top;\n",
       "    }\n",
       "\n",
       "    .dataframe thead th {\n",
       "        text-align: right;\n",
       "    }\n",
       "</style>\n",
       "<table border=\"1\" class=\"dataframe\">\n",
       "  <thead>\n",
       "    <tr style=\"text-align: right;\">\n",
       "      <th></th>\n",
       "      <th>Costomer</th>\n",
       "      <th>Month</th>\n",
       "      <th>Type</th>\n",
       "      <th>Amount</th>\n",
       "    </tr>\n",
       "    <tr>\n",
       "      <th>Sl No:</th>\n",
       "      <th></th>\n",
       "      <th></th>\n",
       "      <th></th>\n",
       "      <th></th>\n",
       "    </tr>\n",
       "  </thead>\n",
       "  <tbody>\n",
       "    <tr>\n",
       "      <th>1</th>\n",
       "      <td>A1</td>\n",
       "      <td>12-Jan-04</td>\n",
       "      <td>JEWELLERY</td>\n",
       "      <td>473776</td>\n",
       "    </tr>\n",
       "    <tr>\n",
       "      <th>2</th>\n",
       "      <td>A1</td>\n",
       "      <td>3-Jan-04</td>\n",
       "      <td>PETRO</td>\n",
       "      <td>335579</td>\n",
       "    </tr>\n",
       "    <tr>\n",
       "      <th>3</th>\n",
       "      <td>A1</td>\n",
       "      <td>15-Jan-04</td>\n",
       "      <td>CLOTHES</td>\n",
       "      <td>371041</td>\n",
       "    </tr>\n",
       "    <tr>\n",
       "      <th>4</th>\n",
       "      <td>A1</td>\n",
       "      <td>25-Jan-04</td>\n",
       "      <td>FOOD</td>\n",
       "      <td>141178</td>\n",
       "    </tr>\n",
       "    <tr>\n",
       "      <th>5</th>\n",
       "      <td>A1</td>\n",
       "      <td>17-Jan-05</td>\n",
       "      <td>CAMERA</td>\n",
       "      <td>398404</td>\n",
       "    </tr>\n",
       "  </tbody>\n",
       "</table>\n",
       "</div>"
      ],
      "text/plain": [
       "       Costomer      Month       Type  Amount\n",
       "Sl No:                                       \n",
       "1            A1  12-Jan-04  JEWELLERY  473776\n",
       "2            A1   3-Jan-04      PETRO  335579\n",
       "3            A1  15-Jan-04    CLOTHES  371041\n",
       "4            A1  25-Jan-04       FOOD  141178\n",
       "5            A1  17-Jan-05     CAMERA  398404"
      ]
     },
     "execution_count": 4,
     "metadata": {},
     "output_type": "execute_result"
    }
   ],
   "source": [
    "spend.head()"
   ]
  },
  {
   "cell_type": "code",
   "execution_count": 5,
   "id": "4c2dc719",
   "metadata": {},
   "outputs": [
    {
     "data": {
      "text/html": [
       "<div>\n",
       "<style scoped>\n",
       "    .dataframe tbody tr th:only-of-type {\n",
       "        vertical-align: middle;\n",
       "    }\n",
       "\n",
       "    .dataframe tbody tr th {\n",
       "        vertical-align: top;\n",
       "    }\n",
       "\n",
       "    .dataframe thead th {\n",
       "        text-align: right;\n",
       "    }\n",
       "</style>\n",
       "<table border=\"1\" class=\"dataframe\">\n",
       "  <thead>\n",
       "    <tr style=\"text-align: right;\">\n",
       "      <th></th>\n",
       "      <th>Costomer</th>\n",
       "      <th>Month</th>\n",
       "      <th>Amount</th>\n",
       "    </tr>\n",
       "    <tr>\n",
       "      <th>SL No:</th>\n",
       "      <th></th>\n",
       "      <th></th>\n",
       "      <th></th>\n",
       "    </tr>\n",
       "  </thead>\n",
       "  <tbody>\n",
       "    <tr>\n",
       "      <th>1</th>\n",
       "      <td>A1</td>\n",
       "      <td>12-Jan-04</td>\n",
       "      <td>331844.007400</td>\n",
       "    </tr>\n",
       "    <tr>\n",
       "      <th>2</th>\n",
       "      <td>A1</td>\n",
       "      <td>3-Jan-04</td>\n",
       "      <td>441139.807300</td>\n",
       "    </tr>\n",
       "    <tr>\n",
       "      <th>3</th>\n",
       "      <td>A1</td>\n",
       "      <td>15-Jan-04</td>\n",
       "      <td>32480.004010</td>\n",
       "    </tr>\n",
       "    <tr>\n",
       "      <th>4</th>\n",
       "      <td>A1</td>\n",
       "      <td>25-Jan-04</td>\n",
       "      <td>90636.966530</td>\n",
       "    </tr>\n",
       "    <tr>\n",
       "      <th>5</th>\n",
       "      <td>A1</td>\n",
       "      <td>17-Jan-05</td>\n",
       "      <td>1581.969829</td>\n",
       "    </tr>\n",
       "  </tbody>\n",
       "</table>\n",
       "</div>"
      ],
      "text/plain": [
       "       Costomer      Month         Amount\n",
       "SL No:                                   \n",
       "1            A1  12-Jan-04  331844.007400\n",
       "2            A1   3-Jan-04  441139.807300\n",
       "3            A1  15-Jan-04   32480.004010\n",
       "4            A1  25-Jan-04   90636.966530\n",
       "5            A1  17-Jan-05    1581.969829"
      ]
     },
     "execution_count": 5,
     "metadata": {},
     "output_type": "execute_result"
    }
   ],
   "source": [
    "repayment.head()"
   ]
  },
  {
   "cell_type": "markdown",
   "id": "c4e8f29e",
   "metadata": {},
   "source": [
    "# Sanity Checks-Data Cleaning/Data Preprocessing"
   ]
  },
  {
   "cell_type": "markdown",
   "id": "9550397c",
   "metadata": {},
   "source": [
    "These are necesaary for proper data consumption."
   ]
  },
  {
   "cell_type": "markdown",
   "id": "7d995fdf",
   "metadata": {},
   "source": [
    "## 1. DATA"
   ]
  },
  {
   "cell_type": "code",
   "execution_count": 6,
   "id": "2aa7161d",
   "metadata": {},
   "outputs": [
    {
     "data": {
      "text/html": [
       "<div>\n",
       "<style scoped>\n",
       "    .dataframe tbody tr th:only-of-type {\n",
       "        vertical-align: middle;\n",
       "    }\n",
       "\n",
       "    .dataframe tbody tr th {\n",
       "        vertical-align: top;\n",
       "    }\n",
       "\n",
       "    .dataframe thead th {\n",
       "        text-align: right;\n",
       "    }\n",
       "</style>\n",
       "<table border=\"1\" class=\"dataframe\">\n",
       "  <thead>\n",
       "    <tr style=\"text-align: right;\">\n",
       "      <th></th>\n",
       "      <th>Age</th>\n",
       "    </tr>\n",
       "  </thead>\n",
       "  <tbody>\n",
       "    <tr>\n",
       "      <th>count</th>\n",
       "      <td>100.000000</td>\n",
       "    </tr>\n",
       "    <tr>\n",
       "      <th>mean</th>\n",
       "      <td>40.146511</td>\n",
       "    </tr>\n",
       "    <tr>\n",
       "      <th>std</th>\n",
       "      <td>23.629596</td>\n",
       "    </tr>\n",
       "    <tr>\n",
       "      <th>min</th>\n",
       "      <td>0.726500</td>\n",
       "    </tr>\n",
       "    <tr>\n",
       "      <th>25%</th>\n",
       "      <td>20.254125</td>\n",
       "    </tr>\n",
       "    <tr>\n",
       "      <th>50%</th>\n",
       "      <td>40.545700</td>\n",
       "    </tr>\n",
       "    <tr>\n",
       "      <th>75%</th>\n",
       "      <td>61.606950</td>\n",
       "    </tr>\n",
       "    <tr>\n",
       "      <th>max</th>\n",
       "      <td>78.431800</td>\n",
       "    </tr>\n",
       "  </tbody>\n",
       "</table>\n",
       "</div>"
      ],
      "text/plain": [
       "              Age\n",
       "count  100.000000\n",
       "mean    40.146511\n",
       "std     23.629596\n",
       "min      0.726500\n",
       "25%     20.254125\n",
       "50%     40.545700\n",
       "75%     61.606950\n",
       "max     78.431800"
      ]
     },
     "execution_count": 6,
     "metadata": {},
     "output_type": "execute_result"
    }
   ],
   "source": [
    "data.describe()"
   ]
  },
  {
   "cell_type": "markdown",
   "id": "300356fa",
   "metadata": {},
   "source": [
    "##### It can be seen that age is the only parameter in data with which we can check."
   ]
  },
  {
   "cell_type": "code",
   "execution_count": 7,
   "id": "69af60f3",
   "metadata": {},
   "outputs": [
    {
     "name": "stdout",
     "output_type": "stream",
     "text": [
      "<class 'pandas.core.frame.DataFrame'>\n",
      "Int64Index: 100 entries, 1 to 100\n",
      "Data columns (total 7 columns):\n",
      " #   Column               Non-Null Count  Dtype  \n",
      "---  ------               --------------  -----  \n",
      " 0   Customer             100 non-null    object \n",
      " 1   Age                  100 non-null    float64\n",
      " 2   City                 100 non-null    object \n",
      " 3   Credit Card Product  100 non-null    object \n",
      " 4   Limit                100 non-null    object \n",
      " 5   Company              100 non-null    object \n",
      " 6   Segment              100 non-null    object \n",
      "dtypes: float64(1), object(6)\n",
      "memory usage: 6.2+ KB\n"
     ]
    }
   ],
   "source": [
    "data.info()"
   ]
  },
  {
   "cell_type": "markdown",
   "id": "3a1cb180",
   "metadata": {},
   "source": [
    "##### Thus there are no missing values in our data and hence we don't have to deal with them."
   ]
  },
  {
   "cell_type": "markdown",
   "id": "3d2dd725",
   "metadata": {},
   "source": [
    "### Dealing with Age"
   ]
  },
  {
   "cell_type": "code",
   "execution_count": 8,
   "id": "ac00cb05",
   "metadata": {},
   "outputs": [
    {
     "data": {
      "text/plain": [
       "0.7265"
      ]
     },
     "execution_count": 8,
     "metadata": {},
     "output_type": "execute_result"
    }
   ],
   "source": [
    "data['Age'].min()"
   ]
  },
  {
   "cell_type": "code",
   "execution_count": 9,
   "id": "6b4c1c8a",
   "metadata": {},
   "outputs": [
    {
     "data": {
      "text/plain": [
       "78.4318"
      ]
     },
     "execution_count": 9,
     "metadata": {},
     "output_type": "execute_result"
    }
   ],
   "source": [
    "data['Age'].max()"
   ]
  },
  {
   "cell_type": "markdown",
   "id": "f3214311",
   "metadata": {},
   "source": [
    "###### Plot a histogram of the age to check for normal distribution"
   ]
  },
  {
   "cell_type": "code",
   "execution_count": 10,
   "id": "4f4521c0",
   "metadata": {},
   "outputs": [
    {
     "data": {
      "image/png": "[encoded data removed]",
      "text/plain": [
       "<Figure size 720x360 with 1 Axes>"
      ]
     },
     "metadata": {
      "needs_background": "light"
     },
     "output_type": "display_data"
    }
   ],
   "source": [
    "plt.figure(figsize=(10, 5))\n",
    "sns.histplot(data['Age'], kde=True)\n",
    "plt.title('Age Distribution')\n",
    "plt.xlabel('Age')\n",
    "plt.ylabel('Frequency')\n",
    "plt.show()"
   ]
  },
  {
   "cell_type": "markdown",
   "id": "984d40f6",
   "metadata": {},
   "source": [
    "#### It can be clearly seen that age does not follow normal distribution"
   ]
  },
  {
   "cell_type": "markdown",
   "id": "66708ff8",
   "metadata": {},
   "source": [
    "#### Now, as this project deals with credit card transactions and the legal age of owning a credit card is 18, so the entries where age is less than 18 are incorrect and has to be dealt with. So we have the following ways of dealing with those entries:"
   ]
  },
  {
   "cell_type": "markdown",
   "id": "338fcc5d",
   "metadata": {},
   "source": [
    "First let's check how many entries have age less than 18."
   ]
  },
  {
   "cell_type": "code",
   "execution_count": 11,
   "id": "da5e70b1",
   "metadata": {},
   "outputs": [
    {
     "name": "stdout",
     "output_type": "stream",
     "text": [
      "22\n"
     ]
    }
   ],
   "source": [
    "less=0\n",
    "df=data['Age']<18\n",
    "for i in df:\n",
    "    if i is True:\n",
    "        less=less+1\n",
    "print(less)"
   ]
  },
  {
   "cell_type": "markdown",
   "id": "69d70419",
   "metadata": {},
   "source": [
    "So, we have 22 entries with age less than 18, i.e., about 22 percent of data has incorrect age."
   ]
  },
  {
   "cell_type": "markdown",
   "id": "96281cc9",
   "metadata": {},
   "source": [
    "##### 1. The first way of dealing is to just remove the entries"
   ]
  },
  {
   "cell_type": "markdown",
   "id": "52b82c68",
   "metadata": {},
   "source": [
    "But we cannot employ this method here as we have only 100 entries and removing 22 would mean that we would loose so much data."
   ]
  },
  {
   "cell_type": "markdown",
   "id": "c8067ed4",
   "metadata": {},
   "source": [
    "#### 2. The second way is to just remove the data in the entries"
   ]
  },
  {
   "cell_type": "markdown",
   "id": "faf78002",
   "metadata": {},
   "source": [
    "This method also cannot be employed as Age is needed in further implications."
   ]
  },
  {
   "cell_type": "markdown",
   "id": "4a40777a",
   "metadata": {},
   "source": [
    "##### 3. The third method is to replace the age with some dummy value wherever the age is less than 18"
   ]
  },
  {
   "cell_type": "markdown",
   "id": "e7f2a556",
   "metadata": {},
   "source": [
    "It would also not benefit us the most."
   ]
  },
  {
   "cell_type": "markdown",
   "id": "f3bd1a5f",
   "metadata": {},
   "source": [
    "#### 4. The fourth method and the best suited for this situation is to replace all the ages below 18 by the mean age of the ages abpve 18."
   ]
  },
  {
   "cell_type": "markdown",
   "id": "1307ebdb",
   "metadata": {},
   "source": [
    "Firstly calculate the mean age of the customers with age more than 18."
   ]
  },
  {
   "cell_type": "code",
   "execution_count": 12,
   "id": "dfbfe392",
   "metadata": {},
   "outputs": [
    {
     "data": {
      "text/plain": [
       "49.292430769230755"
      ]
     },
     "execution_count": 12,
     "metadata": {},
     "output_type": "execute_result"
    }
   ],
   "source": [
    "mean_age = data.loc[data['Age'] > 18, 'Age'].mean()\n",
    "mean_age"
   ]
  },
  {
   "cell_type": "markdown",
   "id": "8f2ac853",
   "metadata": {},
   "source": [
    "Now , for all enteries below age 18, replace the age by the mean age."
   ]
  },
  {
   "cell_type": "code",
   "execution_count": 13,
   "id": "b06fd143",
   "metadata": {},
   "outputs": [],
   "source": [
    "data.loc[data['Age'] < 18, 'Age'] = mean_age"
   ]
  },
  {
   "cell_type": "code",
   "execution_count": 14,
   "id": "e9572591",
   "metadata": {},
   "outputs": [
    {
     "data": {
      "text/html": [
       "<div>\n",
       "<style scoped>\n",
       "    .dataframe tbody tr th:only-of-type {\n",
       "        vertical-align: middle;\n",
       "    }\n",
       "\n",
       "    .dataframe tbody tr th {\n",
       "        vertical-align: top;\n",
       "    }\n",
       "\n",
       "    .dataframe thead th {\n",
       "        text-align: right;\n",
       "    }\n",
       "</style>\n",
       "<table border=\"1\" class=\"dataframe\">\n",
       "  <thead>\n",
       "    <tr style=\"text-align: right;\">\n",
       "      <th></th>\n",
       "      <th>Customer</th>\n",
       "      <th>Age</th>\n",
       "      <th>City</th>\n",
       "      <th>Credit Card Product</th>\n",
       "      <th>Limit</th>\n",
       "      <th>Company</th>\n",
       "      <th>Segment</th>\n",
       "    </tr>\n",
       "    <tr>\n",
       "      <th>Sl No:</th>\n",
       "      <th></th>\n",
       "      <th></th>\n",
       "      <th></th>\n",
       "      <th></th>\n",
       "      <th></th>\n",
       "      <th></th>\n",
       "      <th></th>\n",
       "    </tr>\n",
       "  </thead>\n",
       "  <tbody>\n",
       "    <tr>\n",
       "      <th>1</th>\n",
       "      <td>A1</td>\n",
       "      <td>49.292431</td>\n",
       "      <td>BANGALORE</td>\n",
       "      <td>Gold</td>\n",
       "      <td>INR 500,000.00</td>\n",
       "      <td>C1</td>\n",
       "      <td>Self Employed</td>\n",
       "    </tr>\n",
       "    <tr>\n",
       "      <th>2</th>\n",
       "      <td>A2</td>\n",
       "      <td>35.534600</td>\n",
       "      <td>CALCUTTA</td>\n",
       "      <td>Silver</td>\n",
       "      <td>INR 100,000.00</td>\n",
       "      <td>C2</td>\n",
       "      <td>Salaried_MNC</td>\n",
       "    </tr>\n",
       "    <tr>\n",
       "      <th>3</th>\n",
       "      <td>A3</td>\n",
       "      <td>49.292431</td>\n",
       "      <td>COCHIN</td>\n",
       "      <td>Platimum</td>\n",
       "      <td>INR 10,000.00</td>\n",
       "      <td>C3</td>\n",
       "      <td>Salaried_Pvt</td>\n",
       "    </tr>\n",
       "    <tr>\n",
       "      <th>4</th>\n",
       "      <td>A4</td>\n",
       "      <td>45.820300</td>\n",
       "      <td>BOMBAY</td>\n",
       "      <td>Platimum</td>\n",
       "      <td>INR 10,001.00</td>\n",
       "      <td>C4</td>\n",
       "      <td>Govt</td>\n",
       "    </tr>\n",
       "    <tr>\n",
       "      <th>5</th>\n",
       "      <td>A5</td>\n",
       "      <td>69.663900</td>\n",
       "      <td>BANGALORE</td>\n",
       "      <td>Platimum</td>\n",
       "      <td>INR 10,002.00</td>\n",
       "      <td>C5</td>\n",
       "      <td>Normal Salary</td>\n",
       "    </tr>\n",
       "  </tbody>\n",
       "</table>\n",
       "</div>"
      ],
      "text/plain": [
       "       Customer        Age       City Credit Card Product           Limit  \\\n",
       "Sl No:                                                                      \n",
       "1            A1  49.292431  BANGALORE                Gold  INR 500,000.00   \n",
       "2            A2  35.534600   CALCUTTA              Silver  INR 100,000.00   \n",
       "3            A3  49.292431     COCHIN            Platimum   INR 10,000.00   \n",
       "4            A4  45.820300     BOMBAY            Platimum   INR 10,001.00   \n",
       "5            A5  69.663900  BANGALORE            Platimum   INR 10,002.00   \n",
       "\n",
       "       Company        Segment  \n",
       "Sl No:                         \n",
       "1           C1  Self Employed  \n",
       "2           C2   Salaried_MNC  \n",
       "3           C3   Salaried_Pvt  \n",
       "4           C4           Govt  \n",
       "5           C5  Normal Salary  "
      ]
     },
     "execution_count": 14,
     "metadata": {},
     "output_type": "execute_result"
    }
   ],
   "source": [
    "data.head()"
   ]
  },
  {
   "cell_type": "markdown",
   "id": "b9df3ba9",
   "metadata": {},
   "source": [
    "This ensures that we do not loose any data and also that the ages are appropriate according to the data."
   ]
  },
  {
   "cell_type": "markdown",
   "id": "d06b2eb3",
   "metadata": {},
   "source": [
    "#### Check if we have any age less than 18 anymore"
   ]
  },
  {
   "cell_type": "code",
   "execution_count": 15,
   "id": "525dae88",
   "metadata": {},
   "outputs": [
    {
     "name": "stdout",
     "output_type": "stream",
     "text": [
      "0\n"
     ]
    }
   ],
   "source": [
    "less=0\n",
    "df=data['Age']<18\n",
    "for i in df:\n",
    "    if i is True:\n",
    "        less=less+1\n",
    "print(less)"
   ]
  },
  {
   "cell_type": "markdown",
   "id": "304f8de4",
   "metadata": {},
   "source": [
    "Thus we have no entry with age less than 18."
   ]
  },
  {
   "cell_type": "code",
   "execution_count": 16,
   "id": "d2272e9a",
   "metadata": {},
   "outputs": [
    {
     "data": {
      "text/plain": [
       "49.29243076923076"
      ]
     },
     "execution_count": 16,
     "metadata": {},
     "output_type": "execute_result"
    }
   ],
   "source": [
    "mean_age = data['Age'].mean()\n",
    "mean_age"
   ]
  },
  {
   "cell_type": "markdown",
   "id": "5e71b674",
   "metadata": {},
   "source": [
    "Also the mean remains the same after the replacement."
   ]
  },
  {
   "cell_type": "markdown",
   "id": "56c1b5c2",
   "metadata": {},
   "source": [
    "###### Plot a histogram of the age to check for normal distribution"
   ]
  },
  {
   "cell_type": "code",
   "execution_count": 17,
   "id": "4184aab2",
   "metadata": {},
   "outputs": [
    {
     "data": {
      "image/png": "[encoded data removed]",
      "text/plain": [
       "<Figure size 720x360 with 1 Axes>"
      ]
     },
     "metadata": {
      "needs_background": "light"
     },
     "output_type": "display_data"
    }
   ],
   "source": [
    "plt.figure(figsize=(10, 5))\n",
    "sns.histplot(data['Age'], kde=True)\n",
    "plt.title('Age Distribution')\n",
    "plt.xlabel('Age')\n",
    "plt.ylabel('Frequency')\n",
    "plt.show()"
   ]
  },
  {
   "cell_type": "markdown",
   "id": "d5961406",
   "metadata": {},
   "source": [
    "Now the age clearly follows normal distribution as well which is very important statistically."
   ]
  },
  {
   "cell_type": "markdown",
   "id": "88c4a265",
   "metadata": {},
   "source": [
    "#### Thus we have done the data preprocessing for the data."
   ]
  },
  {
   "cell_type": "markdown",
   "id": "06348b8b",
   "metadata": {},
   "source": [
    "## 2. SPEND"
   ]
  },
  {
   "cell_type": "code",
   "execution_count": 18,
   "id": "8b59a54e",
   "metadata": {},
   "outputs": [
    {
     "data": {
      "text/html": [
       "<div>\n",
       "<style scoped>\n",
       "    .dataframe tbody tr th:only-of-type {\n",
       "        vertical-align: middle;\n",
       "    }\n",
       "\n",
       "    .dataframe tbody tr th {\n",
       "        vertical-align: top;\n",
       "    }\n",
       "\n",
       "    .dataframe thead th {\n",
       "        text-align: right;\n",
       "    }\n",
       "</style>\n",
       "<table border=\"1\" class=\"dataframe\">\n",
       "  <thead>\n",
       "    <tr style=\"text-align: right;\">\n",
       "      <th></th>\n",
       "      <th>Amount</th>\n",
       "    </tr>\n",
       "  </thead>\n",
       "  <tbody>\n",
       "    <tr>\n",
       "      <th>count</th>\n",
       "      <td>1500.000000</td>\n",
       "    </tr>\n",
       "    <tr>\n",
       "      <th>mean</th>\n",
       "      <td>254234.696667</td>\n",
       "    </tr>\n",
       "    <tr>\n",
       "      <th>std</th>\n",
       "      <td>145872.915361</td>\n",
       "    </tr>\n",
       "    <tr>\n",
       "      <th>min</th>\n",
       "      <td>783.000000</td>\n",
       "    </tr>\n",
       "    <tr>\n",
       "      <th>25%</th>\n",
       "      <td>121632.000000</td>\n",
       "    </tr>\n",
       "    <tr>\n",
       "      <th>50%</th>\n",
       "      <td>262959.000000</td>\n",
       "    </tr>\n",
       "    <tr>\n",
       "      <th>75%</th>\n",
       "      <td>381925.750000</td>\n",
       "    </tr>\n",
       "    <tr>\n",
       "      <th>max</th>\n",
       "      <td>499682.000000</td>\n",
       "    </tr>\n",
       "  </tbody>\n",
       "</table>\n",
       "</div>"
      ],
      "text/plain": [
       "              Amount\n",
       "count    1500.000000\n",
       "mean   254234.696667\n",
       "std    145872.915361\n",
       "min       783.000000\n",
       "25%    121632.000000\n",
       "50%    262959.000000\n",
       "75%    381925.750000\n",
       "max    499682.000000"
      ]
     },
     "execution_count": 18,
     "metadata": {},
     "output_type": "execute_result"
    }
   ],
   "source": [
    "spend.describe()"
   ]
  },
  {
   "cell_type": "code",
   "execution_count": 19,
   "id": "5fc5af5f",
   "metadata": {},
   "outputs": [
    {
     "name": "stdout",
     "output_type": "stream",
     "text": [
      "<class 'pandas.core.frame.DataFrame'>\n",
      "Int64Index: 1500 entries, 1 to 1500\n",
      "Data columns (total 4 columns):\n",
      " #   Column    Non-Null Count  Dtype \n",
      "---  ------    --------------  ----- \n",
      " 0   Costomer  1500 non-null   object\n",
      " 1   Month     1500 non-null   object\n",
      " 2   Type      1500 non-null   object\n",
      " 3   Amount    1500 non-null   int64 \n",
      "dtypes: int64(1), object(3)\n",
      "memory usage: 58.6+ KB\n"
     ]
    }
   ],
   "source": [
    "spend.info()"
   ]
  },
  {
   "cell_type": "markdown",
   "id": "69528735",
   "metadata": {},
   "source": [
    "Thus it can be seen that we have no missing/null values here."
   ]
  },
  {
   "cell_type": "markdown",
   "id": "a6169f1b",
   "metadata": {},
   "source": [
    "#### Since all the tasks are on montly basis, convert the month column to datetime format so as to extract the month and year from it"
   ]
  },
  {
   "cell_type": "code",
   "execution_count": 20,
   "id": "e02e2c63",
   "metadata": {},
   "outputs": [],
   "source": [
    "spend['Month']=pd.to_datetime(spend['Month'])"
   ]
  },
  {
   "cell_type": "markdown",
   "id": "ad09f6a9",
   "metadata": {},
   "source": [
    "#### Extract the year and month"
   ]
  },
  {
   "cell_type": "code",
   "execution_count": 21,
   "id": "80dcd2e8",
   "metadata": {},
   "outputs": [],
   "source": [
    "spend['year_month'] = spend['Month'].dt.strftime('%Y-%m')"
   ]
  },
  {
   "cell_type": "markdown",
   "id": "619cba49",
   "metadata": {},
   "source": [
    "#### Sort the values based on customer and date- just for better operations"
   ]
  },
  {
   "cell_type": "code",
   "execution_count": 22,
   "id": "718f3dc8",
   "metadata": {},
   "outputs": [],
   "source": [
    "def sort_key(val):\n",
    "    return int(val[1:])"
   ]
  },
  {
   "cell_type": "code",
   "execution_count": 23,
   "id": "c4a310fd",
   "metadata": {},
   "outputs": [],
   "source": [
    "spend = spend.sort_values(by=['Costomer', 'year_month'], key=lambda x: x.map(sort_key) if x.name == 'Costomer' else x)"
   ]
  },
  {
   "cell_type": "markdown",
   "id": "c31d4f65",
   "metadata": {},
   "source": [
    "#### Reset the index"
   ]
  },
  {
   "cell_type": "code",
   "execution_count": 24,
   "id": "a8317424",
   "metadata": {},
   "outputs": [],
   "source": [
    "spend.reset_index(drop=True, inplace=True)"
   ]
  },
  {
   "cell_type": "code",
   "execution_count": 25,
   "id": "5ee0b913",
   "metadata": {},
   "outputs": [
    {
     "data": {
      "text/html": [
       "<div>\n",
       "<style scoped>\n",
       "    .dataframe tbody tr th:only-of-type {\n",
       "        vertical-align: middle;\n",
       "    }\n",
       "\n",
       "    .dataframe tbody tr th {\n",
       "        vertical-align: top;\n",
       "    }\n",
       "\n",
       "    .dataframe thead th {\n",
       "        text-align: right;\n",
       "    }\n",
       "</style>\n",
       "<table border=\"1\" class=\"dataframe\">\n",
       "  <thead>\n",
       "    <tr style=\"text-align: right;\">\n",
       "      <th></th>\n",
       "      <th>Costomer</th>\n",
       "      <th>Month</th>\n",
       "      <th>Type</th>\n",
       "      <th>Amount</th>\n",
       "      <th>year_month</th>\n",
       "    </tr>\n",
       "  </thead>\n",
       "  <tbody>\n",
       "    <tr>\n",
       "      <th>0</th>\n",
       "      <td>A1</td>\n",
       "      <td>2004-01-12</td>\n",
       "      <td>JEWELLERY</td>\n",
       "      <td>473776</td>\n",
       "      <td>2004-01</td>\n",
       "    </tr>\n",
       "    <tr>\n",
       "      <th>1</th>\n",
       "      <td>A1</td>\n",
       "      <td>2004-01-03</td>\n",
       "      <td>PETRO</td>\n",
       "      <td>335579</td>\n",
       "      <td>2004-01</td>\n",
       "    </tr>\n",
       "    <tr>\n",
       "      <th>2</th>\n",
       "      <td>A1</td>\n",
       "      <td>2004-01-15</td>\n",
       "      <td>CLOTHES</td>\n",
       "      <td>371041</td>\n",
       "      <td>2004-01</td>\n",
       "    </tr>\n",
       "    <tr>\n",
       "      <th>3</th>\n",
       "      <td>A1</td>\n",
       "      <td>2004-01-25</td>\n",
       "      <td>FOOD</td>\n",
       "      <td>141178</td>\n",
       "      <td>2004-01</td>\n",
       "    </tr>\n",
       "    <tr>\n",
       "      <th>4</th>\n",
       "      <td>A1</td>\n",
       "      <td>2004-01-12</td>\n",
       "      <td>TRAIN TICKET</td>\n",
       "      <td>52225</td>\n",
       "      <td>2004-01</td>\n",
       "    </tr>\n",
       "  </tbody>\n",
       "</table>\n",
       "</div>"
      ],
      "text/plain": [
       "  Costomer      Month          Type  Amount year_month\n",
       "0       A1 2004-01-12     JEWELLERY  473776    2004-01\n",
       "1       A1 2004-01-03         PETRO  335579    2004-01\n",
       "2       A1 2004-01-15       CLOTHES  371041    2004-01\n",
       "3       A1 2004-01-25          FOOD  141178    2004-01\n",
       "4       A1 2004-01-12  TRAIN TICKET   52225    2004-01"
      ]
     },
     "execution_count": 25,
     "metadata": {},
     "output_type": "execute_result"
    }
   ],
   "source": [
    "spend.head()"
   ]
  },
  {
   "cell_type": "markdown",
   "id": "4a0aad9b",
   "metadata": {},
   "source": [
    "## 3. REPAYMENT"
   ]
  },
  {
   "cell_type": "code",
   "execution_count": 26,
   "id": "5bb659fa",
   "metadata": {},
   "outputs": [
    {
     "data": {
      "text/html": [
       "<div>\n",
       "<style scoped>\n",
       "    .dataframe tbody tr th:only-of-type {\n",
       "        vertical-align: middle;\n",
       "    }\n",
       "\n",
       "    .dataframe tbody tr th {\n",
       "        vertical-align: top;\n",
       "    }\n",
       "\n",
       "    .dataframe thead th {\n",
       "        text-align: right;\n",
       "    }\n",
       "</style>\n",
       "<table border=\"1\" class=\"dataframe\">\n",
       "  <thead>\n",
       "    <tr style=\"text-align: right;\">\n",
       "      <th></th>\n",
       "      <th>Amount</th>\n",
       "    </tr>\n",
       "  </thead>\n",
       "  <tbody>\n",
       "    <tr>\n",
       "      <th>count</th>\n",
       "      <td>1500.000000</td>\n",
       "    </tr>\n",
       "    <tr>\n",
       "      <th>mean</th>\n",
       "      <td>247472.296083</td>\n",
       "    </tr>\n",
       "    <tr>\n",
       "      <th>std</th>\n",
       "      <td>143530.648485</td>\n",
       "    </tr>\n",
       "    <tr>\n",
       "      <th>min</th>\n",
       "      <td>183.218203</td>\n",
       "    </tr>\n",
       "    <tr>\n",
       "      <th>25%</th>\n",
       "      <td>120422.872350</td>\n",
       "    </tr>\n",
       "    <tr>\n",
       "      <th>50%</th>\n",
       "      <td>247332.616550</td>\n",
       "    </tr>\n",
       "    <tr>\n",
       "      <th>75%</th>\n",
       "      <td>369014.873200</td>\n",
       "    </tr>\n",
       "    <tr>\n",
       "      <th>max</th>\n",
       "      <td>499344.940200</td>\n",
       "    </tr>\n",
       "  </tbody>\n",
       "</table>\n",
       "</div>"
      ],
      "text/plain": [
       "              Amount\n",
       "count    1500.000000\n",
       "mean   247472.296083\n",
       "std    143530.648485\n",
       "min       183.218203\n",
       "25%    120422.872350\n",
       "50%    247332.616550\n",
       "75%    369014.873200\n",
       "max    499344.940200"
      ]
     },
     "execution_count": 26,
     "metadata": {},
     "output_type": "execute_result"
    }
   ],
   "source": [
    "repayment.describe()"
   ]
  },
  {
   "cell_type": "code",
   "execution_count": 27,
   "id": "b0b5154d",
   "metadata": {},
   "outputs": [
    {
     "name": "stdout",
     "output_type": "stream",
     "text": [
      "<class 'pandas.core.frame.DataFrame'>\n",
      "Int64Index: 1500 entries, 1 to 1500\n",
      "Data columns (total 3 columns):\n",
      " #   Column    Non-Null Count  Dtype  \n",
      "---  ------    --------------  -----  \n",
      " 0   Costomer  1500 non-null   object \n",
      " 1   Month     1500 non-null   object \n",
      " 2   Amount    1500 non-null   float64\n",
      "dtypes: float64(1), object(2)\n",
      "memory usage: 46.9+ KB\n"
     ]
    }
   ],
   "source": [
    "repayment.info()"
   ]
  },
  {
   "cell_type": "markdown",
   "id": "d0145602",
   "metadata": {},
   "source": [
    "Thus it can be seen that we have no missing/null values here."
   ]
  },
  {
   "cell_type": "markdown",
   "id": "b936dbcd",
   "metadata": {},
   "source": [
    "#### Do all the steps done in spend here as well."
   ]
  },
  {
   "cell_type": "markdown",
   "id": "93e7466e",
   "metadata": {},
   "source": [
    "#### Convert the month column to datetime format so as to extract the month and year from it"
   ]
  },
  {
   "cell_type": "code",
   "execution_count": 28,
   "id": "246756d4",
   "metadata": {},
   "outputs": [],
   "source": [
    "repayment['Month']=pd.to_datetime(repayment['Month'])"
   ]
  },
  {
   "cell_type": "markdown",
   "id": "d5f18951",
   "metadata": {},
   "source": [
    "#### Extract the year and month"
   ]
  },
  {
   "cell_type": "code",
   "execution_count": 29,
   "id": "e29c9c27",
   "metadata": {},
   "outputs": [],
   "source": [
    "repayment['year_month'] = repayment['Month'].dt.strftime('%Y-%m')"
   ]
  },
  {
   "cell_type": "markdown",
   "id": "f53bcc36",
   "metadata": {},
   "source": [
    "#### Sort the values based on customer"
   ]
  },
  {
   "cell_type": "code",
   "execution_count": 30,
   "id": "2179afb3",
   "metadata": {},
   "outputs": [],
   "source": [
    "def sort_key(val):\n",
    "    return int(val[1:])"
   ]
  },
  {
   "cell_type": "code",
   "execution_count": 31,
   "id": "765c6b6e",
   "metadata": {},
   "outputs": [],
   "source": [
    "repayment = repayment.sort_values(by=['Costomer', 'year_month'], key=lambda x: x.map(sort_key) if x.name == 'Costomer' else x)"
   ]
  },
  {
   "cell_type": "markdown",
   "id": "d0c1d578",
   "metadata": {},
   "source": [
    "#### Reset the index\n"
   ]
  },
  {
   "cell_type": "code",
   "execution_count": 32,
   "id": "185e21db",
   "metadata": {},
   "outputs": [],
   "source": [
    "repayment.reset_index(drop=True, inplace=True)"
   ]
  },
  {
   "cell_type": "code",
   "execution_count": 33,
   "id": "e0cdae34",
   "metadata": {},
   "outputs": [
    {
     "data": {
      "text/html": [
       "<div>\n",
       "<style scoped>\n",
       "    .dataframe tbody tr th:only-of-type {\n",
       "        vertical-align: middle;\n",
       "    }\n",
       "\n",
       "    .dataframe tbody tr th {\n",
       "        vertical-align: top;\n",
       "    }\n",
       "\n",
       "    .dataframe thead th {\n",
       "        text-align: right;\n",
       "    }\n",
       "</style>\n",
       "<table border=\"1\" class=\"dataframe\">\n",
       "  <thead>\n",
       "    <tr style=\"text-align: right;\">\n",
       "      <th></th>\n",
       "      <th>Costomer</th>\n",
       "      <th>Month</th>\n",
       "      <th>Amount</th>\n",
       "      <th>year_month</th>\n",
       "    </tr>\n",
       "  </thead>\n",
       "  <tbody>\n",
       "    <tr>\n",
       "      <th>0</th>\n",
       "      <td>A1</td>\n",
       "      <td>2004-01-12</td>\n",
       "      <td>331844.00740</td>\n",
       "      <td>2004-01</td>\n",
       "    </tr>\n",
       "    <tr>\n",
       "      <th>1</th>\n",
       "      <td>A1</td>\n",
       "      <td>2004-01-03</td>\n",
       "      <td>441139.80730</td>\n",
       "      <td>2004-01</td>\n",
       "    </tr>\n",
       "    <tr>\n",
       "      <th>2</th>\n",
       "      <td>A1</td>\n",
       "      <td>2004-01-15</td>\n",
       "      <td>32480.00401</td>\n",
       "      <td>2004-01</td>\n",
       "    </tr>\n",
       "    <tr>\n",
       "      <th>3</th>\n",
       "      <td>A1</td>\n",
       "      <td>2004-01-25</td>\n",
       "      <td>90636.96653</td>\n",
       "      <td>2004-01</td>\n",
       "    </tr>\n",
       "    <tr>\n",
       "      <th>4</th>\n",
       "      <td>A1</td>\n",
       "      <td>2004-01-12</td>\n",
       "      <td>390074.79000</td>\n",
       "      <td>2004-01</td>\n",
       "    </tr>\n",
       "  </tbody>\n",
       "</table>\n",
       "</div>"
      ],
      "text/plain": [
       "  Costomer      Month        Amount year_month\n",
       "0       A1 2004-01-12  331844.00740    2004-01\n",
       "1       A1 2004-01-03  441139.80730    2004-01\n",
       "2       A1 2004-01-15   32480.00401    2004-01\n",
       "3       A1 2004-01-25   90636.96653    2004-01\n",
       "4       A1 2004-01-12  390074.79000    2004-01"
      ]
     },
     "execution_count": 33,
     "metadata": {},
     "output_type": "execute_result"
    }
   ],
   "source": [
    "repayment.head()"
   ]
  },
  {
   "cell_type": "markdown",
   "id": "68c4794e",
   "metadata": {},
   "source": [
    "#### Thus, we have concluded all the necessary sanity checks for the given data and can proceed to the tasks."
   ]
  },
  {
   "cell_type": "markdown",
   "id": "b2aeb8a1",
   "metadata": {},
   "source": [
    "# Tasks"
   ]
  },
  {
   "cell_type": "markdown",
   "id": "1e4e2f72",
   "metadata": {},
   "source": [
    "## Task1-Monthly Spend of each customer"
   ]
  },
  {
   "cell_type": "markdown",
   "id": "b8da5b9f",
   "metadata": {},
   "source": [
    "Such a task can be performed by grouping the customers monthly and calculating the sum of amount spent. In python, this is done using the **groupby()** function."
   ]
  },
  {
   "cell_type": "code",
   "execution_count": 34,
   "id": "115209c3",
   "metadata": {},
   "outputs": [],
   "source": [
    "monthly_spend = spend.groupby(['Costomer', 'year_month']).sum('Amount').reset_index()"
   ]
  },
  {
   "cell_type": "markdown",
   "id": "bc6a0d87",
   "metadata": {},
   "source": [
    "The output we got displays the month and year in numbers format, so we can change it to view month in words as it seems more appropriate that way."
   ]
  },
  {
   "cell_type": "markdown",
   "id": "8fb9adbb",
   "metadata": {},
   "source": [
    "#### Make it more appropriate to see"
   ]
  },
  {
   "cell_type": "code",
   "execution_count": 35,
   "id": "6eba4b4b",
   "metadata": {},
   "outputs": [],
   "source": [
    "monthly_spend['year_month']=pd.to_datetime(monthly_spend['year_month'])\n",
    "monthly_spend['Year'] = monthly_spend['year_month'].dt.year\n",
    "monthly_spend['Month'] = monthly_spend['year_month'].dt.month\n",
    "monthly_spend['Month'] = monthly_spend['Month'].apply(lambda x: calendar.month_name[x])\n",
    "monthly_spend = monthly_spend.sort_values(by=['Costomer','year_month'], key=lambda x: x.map(sort_key) if x.name == 'Costomer' else x)"
   ]
  },
  {
   "cell_type": "code",
   "execution_count": 36,
   "id": "eacfc548",
   "metadata": {},
   "outputs": [],
   "source": [
    "monthly_spend.drop(columns=['year_month'],inplace=True)\n",
    "monthly_spend = monthly_spend[['Costomer', 'Month', 'Year', 'Amount']]\n",
    "monthly_spend['Month'] = monthly_spend['Month'].astype(str) + '-' + monthly_spend['Year'].astype(str)\n",
    "monthly_spend.drop(columns=['Year'],inplace=True)\n",
    "monthly_spend.reset_index(drop=True, inplace=True)"
   ]
  },
  {
   "cell_type": "markdown",
   "id": "3bd21fee",
   "metadata": {},
   "source": [
    "### OUTPUT"
   ]
  },
  {
   "cell_type": "code",
   "execution_count": 37,
   "id": "904b0c7a",
   "metadata": {},
   "outputs": [
    {
     "data": {
      "text/html": [
       "<div>\n",
       "<style scoped>\n",
       "    .dataframe tbody tr th:only-of-type {\n",
       "        vertical-align: middle;\n",
       "    }\n",
       "\n",
       "    .dataframe tbody tr th {\n",
       "        vertical-align: top;\n",
       "    }\n",
       "\n",
       "    .dataframe thead th {\n",
       "        text-align: right;\n",
       "    }\n",
       "</style>\n",
       "<table border=\"1\" class=\"dataframe\">\n",
       "  <thead>\n",
       "    <tr style=\"text-align: right;\">\n",
       "      <th></th>\n",
       "      <th>Costomer</th>\n",
       "      <th>Month</th>\n",
       "      <th>Amount</th>\n",
       "    </tr>\n",
       "  </thead>\n",
       "  <tbody>\n",
       "    <tr>\n",
       "      <th>0</th>\n",
       "      <td>A1</td>\n",
       "      <td>January-2004</td>\n",
       "      <td>1511173</td>\n",
       "    </tr>\n",
       "    <tr>\n",
       "      <th>1</th>\n",
       "      <td>A1</td>\n",
       "      <td>February-2004</td>\n",
       "      <td>41381</td>\n",
       "    </tr>\n",
       "    <tr>\n",
       "      <th>2</th>\n",
       "      <td>A1</td>\n",
       "      <td>May-2004</td>\n",
       "      <td>131197</td>\n",
       "    </tr>\n",
       "    <tr>\n",
       "      <th>3</th>\n",
       "      <td>A1</td>\n",
       "      <td>January-2005</td>\n",
       "      <td>398404</td>\n",
       "    </tr>\n",
       "    <tr>\n",
       "      <th>4</th>\n",
       "      <td>A1</td>\n",
       "      <td>February-2005</td>\n",
       "      <td>1404194</td>\n",
       "    </tr>\n",
       "    <tr>\n",
       "      <th>...</th>\n",
       "      <td>...</td>\n",
       "      <td>...</td>\n",
       "      <td>...</td>\n",
       "    </tr>\n",
       "    <tr>\n",
       "      <th>802</th>\n",
       "      <td>A96</td>\n",
       "      <td>January-2004</td>\n",
       "      <td>320364</td>\n",
       "    </tr>\n",
       "    <tr>\n",
       "      <th>803</th>\n",
       "      <td>A97</td>\n",
       "      <td>January-2004</td>\n",
       "      <td>164330</td>\n",
       "    </tr>\n",
       "    <tr>\n",
       "      <th>804</th>\n",
       "      <td>A98</td>\n",
       "      <td>January-2004</td>\n",
       "      <td>87484</td>\n",
       "    </tr>\n",
       "    <tr>\n",
       "      <th>805</th>\n",
       "      <td>A99</td>\n",
       "      <td>January-2004</td>\n",
       "      <td>476020</td>\n",
       "    </tr>\n",
       "    <tr>\n",
       "      <th>806</th>\n",
       "      <td>A100</td>\n",
       "      <td>January-2004</td>\n",
       "      <td>42254</td>\n",
       "    </tr>\n",
       "  </tbody>\n",
       "</table>\n",
       "<p>807 rows × 3 columns</p>\n",
       "</div>"
      ],
      "text/plain": [
       "    Costomer          Month   Amount\n",
       "0         A1   January-2004  1511173\n",
       "1         A1  February-2004    41381\n",
       "2         A1       May-2004   131197\n",
       "3         A1   January-2005   398404\n",
       "4         A1  February-2005  1404194\n",
       "..       ...            ...      ...\n",
       "802      A96   January-2004   320364\n",
       "803      A97   January-2004   164330\n",
       "804      A98   January-2004    87484\n",
       "805      A99   January-2004   476020\n",
       "806     A100   January-2004    42254\n",
       "\n",
       "[807 rows x 3 columns]"
      ]
     },
     "execution_count": 37,
     "metadata": {},
     "output_type": "execute_result"
    }
   ],
   "source": [
    "monthly_spend"
   ]
  },
  {
   "cell_type": "markdown",
   "id": "880db927",
   "metadata": {},
   "source": [
    "#### Save the dataframe in a new csv file"
   ]
  },
  {
   "cell_type": "code",
   "execution_count": 38,
   "id": "4fcdbfca",
   "metadata": {},
   "outputs": [],
   "source": [
    "# monthly_spend.to_csv('Task1.csv')"
   ]
  },
  {
   "cell_type": "markdown",
   "id": "91f77a00",
   "metadata": {},
   "source": [
    "## Task 2-Monthly repayment of each customer"
   ]
  },
  {
   "cell_type": "markdown",
   "id": "33258b97",
   "metadata": {},
   "source": [
    "The procedure for finding the monthly repayment is similar to that of monthly spend"
   ]
  },
  {
   "cell_type": "code",
   "execution_count": 39,
   "id": "5a9352b2",
   "metadata": {},
   "outputs": [],
   "source": [
    "monthly_repayment = repayment.groupby(['Costomer', 'year_month']).sum('Amount').reset_index()"
   ]
  },
  {
   "cell_type": "markdown",
   "id": "8d684347",
   "metadata": {},
   "source": [
    "#### Make it more appropriate to see"
   ]
  },
  {
   "cell_type": "code",
   "execution_count": 40,
   "id": "e7891d8c",
   "metadata": {},
   "outputs": [],
   "source": [
    "monthly_repayment['year_month']=pd.to_datetime(monthly_repayment['year_month'])\n",
    "monthly_repayment['Year'] = monthly_repayment['year_month'].dt.year\n",
    "monthly_repayment['Month'] = monthly_repayment['year_month'].dt.month\n",
    "monthly_repayment['Month'] = monthly_repayment['Month'].apply(lambda x: calendar.month_name[x])\n",
    "monthly_repayment = monthly_repayment.sort_values(by=['Costomer','year_month'], key=lambda x: x.map(sort_key) if x.name == 'Costomer' else x)"
   ]
  },
  {
   "cell_type": "code",
   "execution_count": 41,
   "id": "acb8c860",
   "metadata": {},
   "outputs": [],
   "source": [
    "monthly_repayment.drop(columns=['year_month'],inplace=True)\n",
    "monthly_repayment = monthly_repayment[['Costomer', 'Month', 'Year', 'Amount']]\n",
    "monthly_repayment['Month'] = monthly_repayment['Month'].astype(str) + '-' + monthly_repayment['Year'].astype(str)\n",
    "monthly_repayment.drop(columns=['Year'],inplace=True)\n",
    "monthly_repayment.reset_index(drop=True, inplace=True)"
   ]
  },
  {
   "cell_type": "markdown",
   "id": "7036b7f6",
   "metadata": {},
   "source": [
    "### OUTPUT"
   ]
  },
  {
   "cell_type": "code",
   "execution_count": 42,
   "id": "8fc12435",
   "metadata": {},
   "outputs": [
    {
     "data": {
      "text/html": [
       "<div>\n",
       "<style scoped>\n",
       "    .dataframe tbody tr th:only-of-type {\n",
       "        vertical-align: middle;\n",
       "    }\n",
       "\n",
       "    .dataframe tbody tr th {\n",
       "        vertical-align: top;\n",
       "    }\n",
       "\n",
       "    .dataframe thead th {\n",
       "        text-align: right;\n",
       "    }\n",
       "</style>\n",
       "<table border=\"1\" class=\"dataframe\">\n",
       "  <thead>\n",
       "    <tr style=\"text-align: right;\">\n",
       "      <th></th>\n",
       "      <th>Costomer</th>\n",
       "      <th>Month</th>\n",
       "      <th>Amount</th>\n",
       "    </tr>\n",
       "  </thead>\n",
       "  <tbody>\n",
       "    <tr>\n",
       "      <th>0</th>\n",
       "      <td>A1</td>\n",
       "      <td>January-2004</td>\n",
       "      <td>1.362775e+06</td>\n",
       "    </tr>\n",
       "    <tr>\n",
       "      <th>1</th>\n",
       "      <td>A1</td>\n",
       "      <td>February-2004</td>\n",
       "      <td>1.911800e+05</td>\n",
       "    </tr>\n",
       "    <tr>\n",
       "      <th>2</th>\n",
       "      <td>A1</td>\n",
       "      <td>January-2005</td>\n",
       "      <td>1.581970e+03</td>\n",
       "    </tr>\n",
       "    <tr>\n",
       "      <th>3</th>\n",
       "      <td>A1</td>\n",
       "      <td>February-2005</td>\n",
       "      <td>1.199808e+06</td>\n",
       "    </tr>\n",
       "    <tr>\n",
       "      <th>4</th>\n",
       "      <td>A1</td>\n",
       "      <td>July-2005</td>\n",
       "      <td>3.005817e+05</td>\n",
       "    </tr>\n",
       "    <tr>\n",
       "      <th>...</th>\n",
       "      <td>...</td>\n",
       "      <td>...</td>\n",
       "      <td>...</td>\n",
       "    </tr>\n",
       "    <tr>\n",
       "      <th>793</th>\n",
       "      <td>A96</td>\n",
       "      <td>January-2004</td>\n",
       "      <td>1.101390e+05</td>\n",
       "    </tr>\n",
       "    <tr>\n",
       "      <th>794</th>\n",
       "      <td>A97</td>\n",
       "      <td>January-2004</td>\n",
       "      <td>1.746064e+05</td>\n",
       "    </tr>\n",
       "    <tr>\n",
       "      <th>795</th>\n",
       "      <td>A98</td>\n",
       "      <td>January-2004</td>\n",
       "      <td>9.780260e+04</td>\n",
       "    </tr>\n",
       "    <tr>\n",
       "      <th>796</th>\n",
       "      <td>A99</td>\n",
       "      <td>January-2004</td>\n",
       "      <td>3.585899e+05</td>\n",
       "    </tr>\n",
       "    <tr>\n",
       "      <th>797</th>\n",
       "      <td>A100</td>\n",
       "      <td>January-2004</td>\n",
       "      <td>1.511414e+05</td>\n",
       "    </tr>\n",
       "  </tbody>\n",
       "</table>\n",
       "<p>798 rows × 3 columns</p>\n",
       "</div>"
      ],
      "text/plain": [
       "    Costomer          Month        Amount\n",
       "0         A1   January-2004  1.362775e+06\n",
       "1         A1  February-2004  1.911800e+05\n",
       "2         A1   January-2005  1.581970e+03\n",
       "3         A1  February-2005  1.199808e+06\n",
       "4         A1      July-2005  3.005817e+05\n",
       "..       ...            ...           ...\n",
       "793      A96   January-2004  1.101390e+05\n",
       "794      A97   January-2004  1.746064e+05\n",
       "795      A98   January-2004  9.780260e+04\n",
       "796      A99   January-2004  3.585899e+05\n",
       "797     A100   January-2004  1.511414e+05\n",
       "\n",
       "[798 rows x 3 columns]"
      ]
     },
     "execution_count": 42,
     "metadata": {},
     "output_type": "execute_result"
    }
   ],
   "source": [
    "monthly_repayment"
   ]
  },
  {
   "cell_type": "markdown",
   "id": "fdddddeb",
   "metadata": {},
   "source": [
    "#### Save the dataframe in a new csv file"
   ]
  },
  {
   "cell_type": "code",
   "execution_count": 43,
   "id": "d748b825",
   "metadata": {},
   "outputs": [],
   "source": [
    "# monthly_repayment.to_csv('Task2.csv')"
   ]
  },
  {
   "cell_type": "markdown",
   "id": "86b42547",
   "metadata": {},
   "source": [
    "## Task 3-Highest paying 10 customers."
   ]
  },
  {
   "cell_type": "markdown",
   "id": "66e09c7c",
   "metadata": {},
   "source": [
    "The task is to find the highest paying 10 customers, so first we'll be doing it on monthly basis and then we'll find the top 10 highest paying customers of all time for better understanding of the task."
   ]
  },
  {
   "cell_type": "markdown",
   "id": "09f3f989",
   "metadata": {},
   "source": [
    "Basically, we just have to find the 10 highest paying customer, i.e, top 10 customers with highest spending in each month."
   ]
  },
  {
   "cell_type": "code",
   "execution_count": 44,
   "id": "20bfa095",
   "metadata": {},
   "outputs": [
    {
     "data": {
      "text/html": [
       "<div>\n",
       "<style scoped>\n",
       "    .dataframe tbody tr th:only-of-type {\n",
       "        vertical-align: middle;\n",
       "    }\n",
       "\n",
       "    .dataframe tbody tr th {\n",
       "        vertical-align: top;\n",
       "    }\n",
       "\n",
       "    .dataframe thead th {\n",
       "        text-align: right;\n",
       "    }\n",
       "</style>\n",
       "<table border=\"1\" class=\"dataframe\">\n",
       "  <thead>\n",
       "    <tr style=\"text-align: right;\">\n",
       "      <th></th>\n",
       "      <th>Costomer</th>\n",
       "      <th>Month</th>\n",
       "      <th>Type</th>\n",
       "      <th>Amount</th>\n",
       "      <th>year_month</th>\n",
       "    </tr>\n",
       "  </thead>\n",
       "  <tbody>\n",
       "    <tr>\n",
       "      <th>0</th>\n",
       "      <td>A1</td>\n",
       "      <td>2004-01-12</td>\n",
       "      <td>JEWELLERY</td>\n",
       "      <td>473776</td>\n",
       "      <td>2004-01</td>\n",
       "    </tr>\n",
       "    <tr>\n",
       "      <th>1</th>\n",
       "      <td>A1</td>\n",
       "      <td>2004-01-03</td>\n",
       "      <td>PETRO</td>\n",
       "      <td>335579</td>\n",
       "      <td>2004-01</td>\n",
       "    </tr>\n",
       "    <tr>\n",
       "      <th>2</th>\n",
       "      <td>A1</td>\n",
       "      <td>2004-01-15</td>\n",
       "      <td>CLOTHES</td>\n",
       "      <td>371041</td>\n",
       "      <td>2004-01</td>\n",
       "    </tr>\n",
       "    <tr>\n",
       "      <th>3</th>\n",
       "      <td>A1</td>\n",
       "      <td>2004-01-25</td>\n",
       "      <td>FOOD</td>\n",
       "      <td>141178</td>\n",
       "      <td>2004-01</td>\n",
       "    </tr>\n",
       "    <tr>\n",
       "      <th>4</th>\n",
       "      <td>A1</td>\n",
       "      <td>2004-01-12</td>\n",
       "      <td>TRAIN TICKET</td>\n",
       "      <td>52225</td>\n",
       "      <td>2004-01</td>\n",
       "    </tr>\n",
       "  </tbody>\n",
       "</table>\n",
       "</div>"
      ],
      "text/plain": [
       "  Costomer      Month          Type  Amount year_month\n",
       "0       A1 2004-01-12     JEWELLERY  473776    2004-01\n",
       "1       A1 2004-01-03         PETRO  335579    2004-01\n",
       "2       A1 2004-01-15       CLOTHES  371041    2004-01\n",
       "3       A1 2004-01-25          FOOD  141178    2004-01\n",
       "4       A1 2004-01-12  TRAIN TICKET   52225    2004-01"
      ]
     },
     "execution_count": 44,
     "metadata": {},
     "output_type": "execute_result"
    }
   ],
   "source": [
    "spend.head()"
   ]
  },
  {
   "cell_type": "markdown",
   "id": "3e85c388",
   "metadata": {},
   "source": [
    "### Highest 10 paying customers in each month"
   ]
  },
  {
   "cell_type": "markdown",
   "id": "114fda6b",
   "metadata": {},
   "source": [
    "Again groupby() function will help as we need montly calculations and then we can just sort the data in decending order to get the highest paying customers. In order to get the top 10 hisghest paying customers, we can use the nlargest() function which takes the parameter 10."
   ]
  },
  {
   "cell_type": "code",
   "execution_count": 45,
   "id": "485b5f64",
   "metadata": {},
   "outputs": [],
   "source": [
    "totalSpending = spend.groupby(['Costomer', 'year_month'])['Amount'].sum().reset_index()\n",
    "totalSpending = totalSpending.sort_values(by='Amount', ascending=False)\n",
    "top_month = totalSpending.groupby('year_month').apply(lambda x: x.nlargest(10, 'Amount')).reset_index(drop=True)"
   ]
  },
  {
   "cell_type": "markdown",
   "id": "53241c36",
   "metadata": {},
   "source": [
    "##### Make it more appropriate to see"
   ]
  },
  {
   "cell_type": "code",
   "execution_count": 46,
   "id": "baa10333",
   "metadata": {},
   "outputs": [],
   "source": [
    "top_month['year_month']=pd.to_datetime(top_month['year_month'])\n",
    "top_month['Year'] = top_month['year_month'].dt.year\n",
    "top_month['Month'] = top_month['year_month'].dt.month\n",
    "top_month['Month'] = top_month['Month'].apply(lambda x: calendar.month_name[x])"
   ]
  },
  {
   "cell_type": "code",
   "execution_count": 47,
   "id": "55cab5b5",
   "metadata": {},
   "outputs": [],
   "source": [
    "top_month.drop(columns=['year_month'],inplace=True)\n",
    "top_month = top_month[['Costomer', 'Month', 'Year', 'Amount']]\n",
    "top_month['Month'] = top_month['Month'].astype(str) + '-' + top_month['Year'].astype(str)\n",
    "top_month.drop(columns=['Year'],inplace=True)\n",
    "top_month.reset_index(drop=True, inplace=True)"
   ]
  },
  {
   "cell_type": "markdown",
   "id": "801c0c3f",
   "metadata": {},
   "source": [
    "### OUTPUT"
   ]
  },
  {
   "cell_type": "code",
   "execution_count": 48,
   "id": "0201cb09",
   "metadata": {},
   "outputs": [
    {
     "data": {
      "text/html": [
       "<div>\n",
       "<style scoped>\n",
       "    .dataframe tbody tr th:only-of-type {\n",
       "        vertical-align: middle;\n",
       "    }\n",
       "\n",
       "    .dataframe tbody tr th {\n",
       "        vertical-align: top;\n",
       "    }\n",
       "\n",
       "    .dataframe thead th {\n",
       "        text-align: right;\n",
       "    }\n",
       "</style>\n",
       "<table border=\"1\" class=\"dataframe\">\n",
       "  <thead>\n",
       "    <tr style=\"text-align: right;\">\n",
       "      <th></th>\n",
       "      <th>Costomer</th>\n",
       "      <th>Month</th>\n",
       "      <th>Amount</th>\n",
       "    </tr>\n",
       "  </thead>\n",
       "  <tbody>\n",
       "    <tr>\n",
       "      <th>0</th>\n",
       "      <td>A37</td>\n",
       "      <td>January-2004</td>\n",
       "      <td>2605015</td>\n",
       "    </tr>\n",
       "    <tr>\n",
       "      <th>1</th>\n",
       "      <td>A39</td>\n",
       "      <td>January-2004</td>\n",
       "      <td>2417495</td>\n",
       "    </tr>\n",
       "    <tr>\n",
       "      <th>2</th>\n",
       "      <td>A60</td>\n",
       "      <td>January-2004</td>\n",
       "      <td>2245218</td>\n",
       "    </tr>\n",
       "    <tr>\n",
       "      <th>3</th>\n",
       "      <td>A40</td>\n",
       "      <td>January-2004</td>\n",
       "      <td>2233136</td>\n",
       "    </tr>\n",
       "    <tr>\n",
       "      <th>4</th>\n",
       "      <td>A22</td>\n",
       "      <td>January-2004</td>\n",
       "      <td>2126633</td>\n",
       "    </tr>\n",
       "    <tr>\n",
       "      <th>...</th>\n",
       "      <td>...</td>\n",
       "      <td>...</td>\n",
       "      <td>...</td>\n",
       "    </tr>\n",
       "    <tr>\n",
       "      <th>295</th>\n",
       "      <td>A36</td>\n",
       "      <td>December-2006</td>\n",
       "      <td>255209</td>\n",
       "    </tr>\n",
       "    <tr>\n",
       "      <th>296</th>\n",
       "      <td>A16</td>\n",
       "      <td>December-2006</td>\n",
       "      <td>220259</td>\n",
       "    </tr>\n",
       "    <tr>\n",
       "      <th>297</th>\n",
       "      <td>A28</td>\n",
       "      <td>December-2006</td>\n",
       "      <td>188699</td>\n",
       "    </tr>\n",
       "    <tr>\n",
       "      <th>298</th>\n",
       "      <td>A35</td>\n",
       "      <td>December-2006</td>\n",
       "      <td>140924</td>\n",
       "    </tr>\n",
       "    <tr>\n",
       "      <th>299</th>\n",
       "      <td>A51</td>\n",
       "      <td>December-2006</td>\n",
       "      <td>123277</td>\n",
       "    </tr>\n",
       "  </tbody>\n",
       "</table>\n",
       "<p>300 rows × 3 columns</p>\n",
       "</div>"
      ],
      "text/plain": [
       "    Costomer          Month   Amount\n",
       "0        A37   January-2004  2605015\n",
       "1        A39   January-2004  2417495\n",
       "2        A60   January-2004  2245218\n",
       "3        A40   January-2004  2233136\n",
       "4        A22   January-2004  2126633\n",
       "..       ...            ...      ...\n",
       "295      A36  December-2006   255209\n",
       "296      A16  December-2006   220259\n",
       "297      A28  December-2006   188699\n",
       "298      A35  December-2006   140924\n",
       "299      A51  December-2006   123277\n",
       "\n",
       "[300 rows x 3 columns]"
      ]
     },
     "execution_count": 48,
     "metadata": {},
     "output_type": "execute_result"
    }
   ],
   "source": [
    "top_month"
   ]
  },
  {
   "cell_type": "markdown",
   "id": "22bdbd4d",
   "metadata": {},
   "source": [
    "### IMPORTANT!!!!\n",
    "1.Please note that for the months for which we have less than 10 customers who spend the money, we'll have that many customers only.  \n",
    "2.Also for the months we had no customers, such months are excluded from the dataframe"
   ]
  },
  {
   "cell_type": "markdown",
   "id": "abcf25a2",
   "metadata": {},
   "source": [
    "As we can see, it is very hard to use these results and visualize them properly.  \n",
    "So what we can do is find the top paying customers of all time to get a better understanding of the situation."
   ]
  },
  {
   "cell_type": "markdown",
   "id": "d8812326",
   "metadata": {},
   "source": [
    "#### Save the dataframe in a new csv file"
   ]
  },
  {
   "cell_type": "code",
   "execution_count": 49,
   "id": "24294779",
   "metadata": {},
   "outputs": [],
   "source": [
    "# top_month.to_csv(\"Task3.csv\")"
   ]
  },
  {
   "cell_type": "markdown",
   "id": "f1838775",
   "metadata": {},
   "source": [
    "### Top 10 paying customers of all time-to better visualize the results"
   ]
  },
  {
   "cell_type": "code",
   "execution_count": 50,
   "id": "664b1970",
   "metadata": {},
   "outputs": [],
   "source": [
    "totalSpending = spend.groupby('Costomer')['Amount'].sum().reset_index()\n",
    "totalSpending = totalSpending.sort_values(by='Amount', ascending=False)\n",
    "top_customers = totalSpending.head(10).reset_index()\n",
    "top_customers.drop(columns=['index'],inplace=True)"
   ]
  },
  {
   "cell_type": "markdown",
   "id": "e1e7b17e",
   "metadata": {},
   "source": [
    "### OUTPUT"
   ]
  },
  {
   "cell_type": "code",
   "execution_count": 51,
   "id": "285ca444",
   "metadata": {},
   "outputs": [
    {
     "data": {
      "text/html": [
       "<div>\n",
       "<style scoped>\n",
       "    .dataframe tbody tr th:only-of-type {\n",
       "        vertical-align: middle;\n",
       "    }\n",
       "\n",
       "    .dataframe tbody tr th {\n",
       "        vertical-align: top;\n",
       "    }\n",
       "\n",
       "    .dataframe thead th {\n",
       "        text-align: right;\n",
       "    }\n",
       "</style>\n",
       "<table border=\"1\" class=\"dataframe\">\n",
       "  <thead>\n",
       "    <tr style=\"text-align: right;\">\n",
       "      <th></th>\n",
       "      <th>Costomer</th>\n",
       "      <th>Amount</th>\n",
       "    </tr>\n",
       "  </thead>\n",
       "  <tbody>\n",
       "    <tr>\n",
       "      <th>0</th>\n",
       "      <td>A22</td>\n",
       "      <td>9637821</td>\n",
       "    </tr>\n",
       "    <tr>\n",
       "      <th>1</th>\n",
       "      <td>A40</td>\n",
       "      <td>9595037</td>\n",
       "    </tr>\n",
       "    <tr>\n",
       "      <th>2</th>\n",
       "      <td>A60</td>\n",
       "      <td>9317672</td>\n",
       "    </tr>\n",
       "    <tr>\n",
       "      <th>3</th>\n",
       "      <td>A61</td>\n",
       "      <td>9148466</td>\n",
       "    </tr>\n",
       "    <tr>\n",
       "      <th>4</th>\n",
       "      <td>A48</td>\n",
       "      <td>9056652</td>\n",
       "    </tr>\n",
       "    <tr>\n",
       "      <th>5</th>\n",
       "      <td>A42</td>\n",
       "      <td>8665638</td>\n",
       "    </tr>\n",
       "    <tr>\n",
       "      <th>6</th>\n",
       "      <td>A41</td>\n",
       "      <td>8583533</td>\n",
       "    </tr>\n",
       "    <tr>\n",
       "      <th>7</th>\n",
       "      <td>A39</td>\n",
       "      <td>8526679</td>\n",
       "    </tr>\n",
       "    <tr>\n",
       "      <th>8</th>\n",
       "      <td>A45</td>\n",
       "      <td>8498614</td>\n",
       "    </tr>\n",
       "    <tr>\n",
       "      <th>9</th>\n",
       "      <td>A13</td>\n",
       "      <td>8042340</td>\n",
       "    </tr>\n",
       "  </tbody>\n",
       "</table>\n",
       "</div>"
      ],
      "text/plain": [
       "  Costomer   Amount\n",
       "0      A22  9637821\n",
       "1      A40  9595037\n",
       "2      A60  9317672\n",
       "3      A61  9148466\n",
       "4      A48  9056652\n",
       "5      A42  8665638\n",
       "6      A41  8583533\n",
       "7      A39  8526679\n",
       "8      A45  8498614\n",
       "9      A13  8042340"
      ]
     },
     "execution_count": 51,
     "metadata": {},
     "output_type": "execute_result"
    }
   ],
   "source": [
    "top_customers"
   ]
  },
  {
   "cell_type": "markdown",
   "id": "8f3458af",
   "metadata": {},
   "source": [
    "#### Visualize the results"
   ]
  },
  {
   "cell_type": "markdown",
   "id": "e491411a",
   "metadata": {},
   "source": [
    "#### 1. Bar GRAPH"
   ]
  },
  {
   "cell_type": "code",
   "execution_count": 52,
   "id": "9e7303c0",
   "metadata": {},
   "outputs": [
    {
     "data": {
      "image/png": "[encoded data removed]",
      "text/plain": [
       "<Figure size 720x432 with 1 Axes>"
      ]
     },
     "metadata": {
      "needs_background": "light"
     },
     "output_type": "display_data"
    }
   ],
   "source": [
    "plt.figure(figsize=(10, 6))\n",
    "plt.bar(top_customers['Costomer'], top_customers['Amount'], color='skyblue')\n",
    "plt.xlabel('Customer ID')\n",
    "plt.ylabel('Total Spending')\n",
    "plt.title('Top 10 Highest Paying Customers')\n",
    "plt.xticks(top_customers['Costomer'])  # Ensure all customer IDs are shown on x-axis\n",
    "plt.show()"
   ]
  },
  {
   "cell_type": "markdown",
   "id": "a81f3d1b",
   "metadata": {},
   "source": [
    "#### 2. Pie CHART"
   ]
  },
  {
   "cell_type": "code",
   "execution_count": 53,
   "id": "a1188f6e",
   "metadata": {},
   "outputs": [
    {
     "data": {
      "image/png": "[encoded data removed]",
      "text/plain": [
       "<Figure size 576x576 with 1 Axes>"
      ]
     },
     "metadata": {},
     "output_type": "display_data"
    }
   ],
   "source": [
    "plt.figure(figsize=(8, 8))\n",
    "plt.pie(top_customers['Amount'], labels=top_customers['Costomer'], autopct='%1.1f%%', startangle=140, colors=plt.cm.Paired.colors)\n",
    "plt.title('Top 10 Highest Paying Customers')\n",
    "plt.axis('equal')\n",
    "plt.show()"
   ]
  },
  {
   "cell_type": "markdown",
   "id": "f13b86ed",
   "metadata": {},
   "source": [
    "#### Save the results\n"
   ]
  },
  {
   "cell_type": "code",
   "execution_count": 54,
   "id": "0ba653ad",
   "metadata": {},
   "outputs": [],
   "source": [
    "# top_customers.to_csv('Subtask3.csv')"
   ]
  },
  {
   "cell_type": "markdown",
   "id": "da71323a",
   "metadata": {},
   "source": [
    "## Task 4-People in which segment are spending more money."
   ]
  },
  {
   "cell_type": "markdown",
   "id": "8e62060b",
   "metadata": {},
   "source": [
    "We have to get the segment col with the amount spent to get the results so we weill use **JOIN**. It is done using merge() function."
   ]
  },
  {
   "cell_type": "code",
   "execution_count": 55,
   "id": "3d9c5def",
   "metadata": {},
   "outputs": [],
   "source": [
    "spend.rename(columns={'Costomer': 'Customer'}, inplace=True)\n",
    "merged_data=pd.merge(data, spend, on='Customer', how='right')\n",
    "merged_data.drop(columns=['Age','City','Credit Card Product','Limit','Company'],inplace=True)"
   ]
  },
  {
   "cell_type": "code",
   "execution_count": 56,
   "id": "ffe76d4d",
   "metadata": {},
   "outputs": [
    {
     "data": {
      "text/html": [
       "<div>\n",
       "<style scoped>\n",
       "    .dataframe tbody tr th:only-of-type {\n",
       "        vertical-align: middle;\n",
       "    }\n",
       "\n",
       "    .dataframe tbody tr th {\n",
       "        vertical-align: top;\n",
       "    }\n",
       "\n",
       "    .dataframe thead th {\n",
       "        text-align: right;\n",
       "    }\n",
       "</style>\n",
       "<table border=\"1\" class=\"dataframe\">\n",
       "  <thead>\n",
       "    <tr style=\"text-align: right;\">\n",
       "      <th></th>\n",
       "      <th>Customer</th>\n",
       "      <th>Segment</th>\n",
       "      <th>Month</th>\n",
       "      <th>Type</th>\n",
       "      <th>Amount</th>\n",
       "      <th>year_month</th>\n",
       "    </tr>\n",
       "  </thead>\n",
       "  <tbody>\n",
       "    <tr>\n",
       "      <th>0</th>\n",
       "      <td>A1</td>\n",
       "      <td>Self Employed</td>\n",
       "      <td>2004-01-12</td>\n",
       "      <td>JEWELLERY</td>\n",
       "      <td>473776</td>\n",
       "      <td>2004-01</td>\n",
       "    </tr>\n",
       "    <tr>\n",
       "      <th>1</th>\n",
       "      <td>A1</td>\n",
       "      <td>Self Employed</td>\n",
       "      <td>2004-01-03</td>\n",
       "      <td>PETRO</td>\n",
       "      <td>335579</td>\n",
       "      <td>2004-01</td>\n",
       "    </tr>\n",
       "    <tr>\n",
       "      <th>2</th>\n",
       "      <td>A1</td>\n",
       "      <td>Self Employed</td>\n",
       "      <td>2004-01-15</td>\n",
       "      <td>CLOTHES</td>\n",
       "      <td>371041</td>\n",
       "      <td>2004-01</td>\n",
       "    </tr>\n",
       "    <tr>\n",
       "      <th>3</th>\n",
       "      <td>A1</td>\n",
       "      <td>Self Employed</td>\n",
       "      <td>2004-01-25</td>\n",
       "      <td>FOOD</td>\n",
       "      <td>141178</td>\n",
       "      <td>2004-01</td>\n",
       "    </tr>\n",
       "    <tr>\n",
       "      <th>4</th>\n",
       "      <td>A1</td>\n",
       "      <td>Self Employed</td>\n",
       "      <td>2004-01-12</td>\n",
       "      <td>TRAIN TICKET</td>\n",
       "      <td>52225</td>\n",
       "      <td>2004-01</td>\n",
       "    </tr>\n",
       "  </tbody>\n",
       "</table>\n",
       "</div>"
      ],
      "text/plain": [
       "  Customer        Segment      Month          Type  Amount year_month\n",
       "0       A1  Self Employed 2004-01-12     JEWELLERY  473776    2004-01\n",
       "1       A1  Self Employed 2004-01-03         PETRO  335579    2004-01\n",
       "2       A1  Self Employed 2004-01-15       CLOTHES  371041    2004-01\n",
       "3       A1  Self Employed 2004-01-25          FOOD  141178    2004-01\n",
       "4       A1  Self Employed 2004-01-12  TRAIN TICKET   52225    2004-01"
      ]
     },
     "execution_count": 56,
     "metadata": {},
     "output_type": "execute_result"
    }
   ],
   "source": [
    "merged_data.head()"
   ]
  },
  {
   "cell_type": "markdown",
   "id": "0f5be7f0",
   "metadata": {},
   "source": [
    "This merged dataframe gives us the information about the segment of each customer during each transaction.  \n",
    "Now all we have to do is find the highest spending sector in each month"
   ]
  },
  {
   "cell_type": "markdown",
   "id": "d90e8ddf",
   "metadata": {},
   "source": [
    "#### Highest spending sector in each month"
   ]
  },
  {
   "cell_type": "code",
   "execution_count": 57,
   "id": "5460cbf5",
   "metadata": {},
   "outputs": [],
   "source": [
    "parameter=1\n",
    "totalSpending = merged_data.groupby(['year_month', 'Segment'])['Amount'].sum().reset_index()\n",
    "totalSpending = totalSpending.sort_values(by='Amount', ascending=False)\n",
    "top_month_Segment = totalSpending.groupby('year_month').apply(lambda x: x.nlargest(parameter, 'Amount')).reset_index(drop=True)"
   ]
  },
  {
   "cell_type": "markdown",
   "id": "96c6ef6a",
   "metadata": {},
   "source": [
    "We have only got the highest spending segment in each month, if we want to get more of the higher spending segments in any month, all we have to do is update the **parameter**."
   ]
  },
  {
   "cell_type": "markdown",
   "id": "7b905e59",
   "metadata": {},
   "source": [
    "#### Make it more appropriate to see"
   ]
  },
  {
   "cell_type": "code",
   "execution_count": 58,
   "id": "4d1c1226",
   "metadata": {},
   "outputs": [],
   "source": [
    "top_month_Segment['year_month']=pd.to_datetime(top_month_Segment['year_month'])\n",
    "top_month_Segment['Year'] = top_month_Segment['year_month'].dt.year\n",
    "top_month_Segment['Month'] = top_month_Segment['year_month'].dt.month\n",
    "top_month_Segment['Month'] = top_month_Segment['Month'].apply(lambda x: calendar.month_name[x])"
   ]
  },
  {
   "cell_type": "code",
   "execution_count": 59,
   "id": "502a86d4",
   "metadata": {},
   "outputs": [],
   "source": [
    "top_month_Segment.drop(columns=['year_month'],inplace=True)\n",
    "top_month_Segment = top_month_Segment[['Segment', 'Month', 'Year', 'Amount']]\n",
    "top_month_Segment['Month'] = top_month_Segment['Month'].astype(str) + '-' + top_month_Segment['Year'].astype(str)\n",
    "top_month_Segment.drop(columns=['Year'],inplace=True)\n",
    "top_month_Segment.reset_index(drop=True, inplace=True)"
   ]
  },
  {
   "cell_type": "markdown",
   "id": "f502fb79",
   "metadata": {},
   "source": [
    "### OUTPUT"
   ]
  },
  {
   "cell_type": "code",
   "execution_count": 60,
   "id": "2b627eb7",
   "metadata": {},
   "outputs": [
    {
     "data": {
      "text/html": [
       "<div>\n",
       "<style scoped>\n",
       "    .dataframe tbody tr th:only-of-type {\n",
       "        vertical-align: middle;\n",
       "    }\n",
       "\n",
       "    .dataframe tbody tr th {\n",
       "        vertical-align: top;\n",
       "    }\n",
       "\n",
       "    .dataframe thead th {\n",
       "        text-align: right;\n",
       "    }\n",
       "</style>\n",
       "<table border=\"1\" class=\"dataframe\">\n",
       "  <thead>\n",
       "    <tr style=\"text-align: right;\">\n",
       "      <th></th>\n",
       "      <th>Segment</th>\n",
       "      <th>Month</th>\n",
       "      <th>Amount</th>\n",
       "    </tr>\n",
       "  </thead>\n",
       "  <tbody>\n",
       "    <tr>\n",
       "      <th>0</th>\n",
       "      <td>Normal Salary</td>\n",
       "      <td>January-2004</td>\n",
       "      <td>22394595</td>\n",
       "    </tr>\n",
       "    <tr>\n",
       "      <th>1</th>\n",
       "      <td>Normal Salary</td>\n",
       "      <td>February-2004</td>\n",
       "      <td>2841896</td>\n",
       "    </tr>\n",
       "    <tr>\n",
       "      <th>2</th>\n",
       "      <td>Salaried_Pvt</td>\n",
       "      <td>March-2004</td>\n",
       "      <td>1277308</td>\n",
       "    </tr>\n",
       "    <tr>\n",
       "      <th>3</th>\n",
       "      <td>Salaried_MNC</td>\n",
       "      <td>April-2004</td>\n",
       "      <td>2262438</td>\n",
       "    </tr>\n",
       "    <tr>\n",
       "      <th>4</th>\n",
       "      <td>Govt</td>\n",
       "      <td>May-2004</td>\n",
       "      <td>1593276</td>\n",
       "    </tr>\n",
       "    <tr>\n",
       "      <th>5</th>\n",
       "      <td>Normal Salary</td>\n",
       "      <td>September-2004</td>\n",
       "      <td>1212599</td>\n",
       "    </tr>\n",
       "    <tr>\n",
       "      <th>6</th>\n",
       "      <td>Normal Salary</td>\n",
       "      <td>November-2004</td>\n",
       "      <td>1431529</td>\n",
       "    </tr>\n",
       "    <tr>\n",
       "      <th>7</th>\n",
       "      <td>Govt</td>\n",
       "      <td>January-2005</td>\n",
       "      <td>2323803</td>\n",
       "    </tr>\n",
       "    <tr>\n",
       "      <th>8</th>\n",
       "      <td>Self Employed</td>\n",
       "      <td>February-2005</td>\n",
       "      <td>10745033</td>\n",
       "    </tr>\n",
       "    <tr>\n",
       "      <th>9</th>\n",
       "      <td>Salaried_Pvt</td>\n",
       "      <td>April-2005</td>\n",
       "      <td>3558552</td>\n",
       "    </tr>\n",
       "    <tr>\n",
       "      <th>10</th>\n",
       "      <td>Normal Salary</td>\n",
       "      <td>May-2005</td>\n",
       "      <td>9952875</td>\n",
       "    </tr>\n",
       "    <tr>\n",
       "      <th>11</th>\n",
       "      <td>Govt</td>\n",
       "      <td>June-2005</td>\n",
       "      <td>2876111</td>\n",
       "    </tr>\n",
       "    <tr>\n",
       "      <th>12</th>\n",
       "      <td>Salaried_MNC</td>\n",
       "      <td>July-2005</td>\n",
       "      <td>1557177</td>\n",
       "    </tr>\n",
       "    <tr>\n",
       "      <th>13</th>\n",
       "      <td>Normal Salary</td>\n",
       "      <td>August-2005</td>\n",
       "      <td>2417785</td>\n",
       "    </tr>\n",
       "    <tr>\n",
       "      <th>14</th>\n",
       "      <td>Self Employed</td>\n",
       "      <td>September-2005</td>\n",
       "      <td>988659</td>\n",
       "    </tr>\n",
       "    <tr>\n",
       "      <th>15</th>\n",
       "      <td>Normal Salary</td>\n",
       "      <td>October-2005</td>\n",
       "      <td>1487898</td>\n",
       "    </tr>\n",
       "    <tr>\n",
       "      <th>16</th>\n",
       "      <td>Salaried_Pvt</td>\n",
       "      <td>November-2005</td>\n",
       "      <td>3777193</td>\n",
       "    </tr>\n",
       "    <tr>\n",
       "      <th>17</th>\n",
       "      <td>Govt</td>\n",
       "      <td>December-2005</td>\n",
       "      <td>1169055</td>\n",
       "    </tr>\n",
       "    <tr>\n",
       "      <th>18</th>\n",
       "      <td>Salaried_Pvt</td>\n",
       "      <td>January-2006</td>\n",
       "      <td>1710222</td>\n",
       "    </tr>\n",
       "    <tr>\n",
       "      <th>19</th>\n",
       "      <td>Govt</td>\n",
       "      <td>February-2006</td>\n",
       "      <td>3956979</td>\n",
       "    </tr>\n",
       "    <tr>\n",
       "      <th>20</th>\n",
       "      <td>Normal Salary</td>\n",
       "      <td>March-2006</td>\n",
       "      <td>16877931</td>\n",
       "    </tr>\n",
       "    <tr>\n",
       "      <th>21</th>\n",
       "      <td>Self Employed</td>\n",
       "      <td>April-2006</td>\n",
       "      <td>6241180</td>\n",
       "    </tr>\n",
       "    <tr>\n",
       "      <th>22</th>\n",
       "      <td>Normal Salary</td>\n",
       "      <td>May-2006</td>\n",
       "      <td>5510277</td>\n",
       "    </tr>\n",
       "    <tr>\n",
       "      <th>23</th>\n",
       "      <td>Normal Salary</td>\n",
       "      <td>June-2006</td>\n",
       "      <td>1643948</td>\n",
       "    </tr>\n",
       "    <tr>\n",
       "      <th>24</th>\n",
       "      <td>Normal Salary</td>\n",
       "      <td>July-2006</td>\n",
       "      <td>2130229</td>\n",
       "    </tr>\n",
       "    <tr>\n",
       "      <th>25</th>\n",
       "      <td>Normal Salary</td>\n",
       "      <td>August-2006</td>\n",
       "      <td>980753</td>\n",
       "    </tr>\n",
       "    <tr>\n",
       "      <th>26</th>\n",
       "      <td>Govt</td>\n",
       "      <td>September-2006</td>\n",
       "      <td>998110</td>\n",
       "    </tr>\n",
       "    <tr>\n",
       "      <th>27</th>\n",
       "      <td>Normal Salary</td>\n",
       "      <td>October-2006</td>\n",
       "      <td>1093330</td>\n",
       "    </tr>\n",
       "    <tr>\n",
       "      <th>28</th>\n",
       "      <td>Normal Salary</td>\n",
       "      <td>November-2006</td>\n",
       "      <td>2485723</td>\n",
       "    </tr>\n",
       "    <tr>\n",
       "      <th>29</th>\n",
       "      <td>Normal Salary</td>\n",
       "      <td>December-2006</td>\n",
       "      <td>1510011</td>\n",
       "    </tr>\n",
       "  </tbody>\n",
       "</table>\n",
       "</div>"
      ],
      "text/plain": [
       "          Segment           Month    Amount\n",
       "0   Normal Salary    January-2004  22394595\n",
       "1   Normal Salary   February-2004   2841896\n",
       "2    Salaried_Pvt      March-2004   1277308\n",
       "3    Salaried_MNC      April-2004   2262438\n",
       "4            Govt        May-2004   1593276\n",
       "5   Normal Salary  September-2004   1212599\n",
       "6   Normal Salary   November-2004   1431529\n",
       "7            Govt    January-2005   2323803\n",
       "8   Self Employed   February-2005  10745033\n",
       "9    Salaried_Pvt      April-2005   3558552\n",
       "10  Normal Salary        May-2005   9952875\n",
       "11           Govt       June-2005   2876111\n",
       "12   Salaried_MNC       July-2005   1557177\n",
       "13  Normal Salary     August-2005   2417785\n",
       "14  Self Employed  September-2005    988659\n",
       "15  Normal Salary    October-2005   1487898\n",
       "16   Salaried_Pvt   November-2005   3777193\n",
       "17           Govt   December-2005   1169055\n",
       "18   Salaried_Pvt    January-2006   1710222\n",
       "19           Govt   February-2006   3956979\n",
       "20  Normal Salary      March-2006  16877931\n",
       "21  Self Employed      April-2006   6241180\n",
       "22  Normal Salary        May-2006   5510277\n",
       "23  Normal Salary       June-2006   1643948\n",
       "24  Normal Salary       July-2006   2130229\n",
       "25  Normal Salary     August-2006    980753\n",
       "26           Govt  September-2006    998110\n",
       "27  Normal Salary    October-2006   1093330\n",
       "28  Normal Salary   November-2006   2485723\n",
       "29  Normal Salary   December-2006   1510011"
      ]
     },
     "execution_count": 60,
     "metadata": {},
     "output_type": "execute_result"
    }
   ],
   "source": [
    "top_month_Segment"
   ]
  },
  {
   "cell_type": "markdown",
   "id": "ecfadcf2",
   "metadata": {},
   "source": [
    "#### pie chart for better visualization"
   ]
  },
  {
   "cell_type": "code",
   "execution_count": 61,
   "id": "d8106d8a",
   "metadata": {},
   "outputs": [
    {
     "data": {
      "image/png": "[encoded data removed]",
      "text/plain": [
       "<Figure size 576x576 with 1 Axes>"
      ]
     },
     "metadata": {},
     "output_type": "display_data"
    }
   ],
   "source": [
    "top_month_Segment['Label'] = top_month_Segment['Segment'] + ' - ' + top_month_Segment['Month']\n",
    "\n",
    "plt.figure(figsize=(8, 8))\n",
    "plt.pie(top_month_Segment['Amount'], labels=top_month_Segment['Label'], autopct='%1.1f%%', startangle=140, colors=plt.cm.Paired.colors)\n",
    "plt.title('Hishest spending segments each month')\n",
    "plt.axis('equal')\n",
    "plt.show()"
   ]
  },
  {
   "cell_type": "markdown",
   "id": "921431e9",
   "metadata": {},
   "source": [
    "#### Save the dataframe in a new csv file"
   ]
  },
  {
   "cell_type": "code",
   "execution_count": 62,
   "id": "fc8e2082",
   "metadata": {},
   "outputs": [],
   "source": [
    "# top_month_Segment.to_csv('Task4.csv')"
   ]
  },
  {
   "cell_type": "markdown",
   "id": "32938ac1",
   "metadata": {},
   "source": [
    "## Task 5-Which age group is spending more money"
   ]
  },
  {
   "cell_type": "markdown",
   "id": "4b05b01c",
   "metadata": {},
   "source": [
    "To solve such task, first we'll have to have the age groups as our data has no age groups but only ages"
   ]
  },
  {
   "cell_type": "markdown",
   "id": "a302bf6f",
   "metadata": {},
   "source": [
    "Young Adults: **18-35 years**  \n",
    "Middle-aged Adults: **36-55 years**  \n",
    "Older Adults: **56-65 years**  \n",
    "Senior Citizens: **66 years and older**  "
   ]
  },
  {
   "cell_type": "markdown",
   "id": "207f3d8c",
   "metadata": {},
   "source": [
    "Now have to add these age groups to our data. The method cut() helps us do just that."
   ]
  },
  {
   "cell_type": "code",
   "execution_count": 63,
   "id": "7cef1a16",
   "metadata": {},
   "outputs": [],
   "source": [
    "bins = [18,35, 55, 65, 99]\n",
    "labels = ['Young Adults', 'Middle-aged Adults', 'Older Adults', 'Senior Citizens']\n",
    "data['Age Group'] = pd.cut(data['Age'], bins=bins, labels=labels, right=False)"
   ]
  },
  {
   "cell_type": "code",
   "execution_count": 64,
   "id": "40fa25c8",
   "metadata": {
    "scrolled": true
   },
   "outputs": [
    {
     "data": {
      "text/html": [
       "<div>\n",
       "<style scoped>\n",
       "    .dataframe tbody tr th:only-of-type {\n",
       "        vertical-align: middle;\n",
       "    }\n",
       "\n",
       "    .dataframe tbody tr th {\n",
       "        vertical-align: top;\n",
       "    }\n",
       "\n",
       "    .dataframe thead th {\n",
       "        text-align: right;\n",
       "    }\n",
       "</style>\n",
       "<table border=\"1\" class=\"dataframe\">\n",
       "  <thead>\n",
       "    <tr style=\"text-align: right;\">\n",
       "      <th></th>\n",
       "      <th>Customer</th>\n",
       "      <th>Age</th>\n",
       "      <th>City</th>\n",
       "      <th>Credit Card Product</th>\n",
       "      <th>Limit</th>\n",
       "      <th>Company</th>\n",
       "      <th>Segment</th>\n",
       "      <th>Age Group</th>\n",
       "    </tr>\n",
       "    <tr>\n",
       "      <th>Sl No:</th>\n",
       "      <th></th>\n",
       "      <th></th>\n",
       "      <th></th>\n",
       "      <th></th>\n",
       "      <th></th>\n",
       "      <th></th>\n",
       "      <th></th>\n",
       "      <th></th>\n",
       "    </tr>\n",
       "  </thead>\n",
       "  <tbody>\n",
       "    <tr>\n",
       "      <th>1</th>\n",
       "      <td>A1</td>\n",
       "      <td>49.292431</td>\n",
       "      <td>BANGALORE</td>\n",
       "      <td>Gold</td>\n",
       "      <td>INR 500,000.00</td>\n",
       "      <td>C1</td>\n",
       "      <td>Self Employed</td>\n",
       "      <td>Middle-aged Adults</td>\n",
       "    </tr>\n",
       "    <tr>\n",
       "      <th>2</th>\n",
       "      <td>A2</td>\n",
       "      <td>35.534600</td>\n",
       "      <td>CALCUTTA</td>\n",
       "      <td>Silver</td>\n",
       "      <td>INR 100,000.00</td>\n",
       "      <td>C2</td>\n",
       "      <td>Salaried_MNC</td>\n",
       "      <td>Middle-aged Adults</td>\n",
       "    </tr>\n",
       "    <tr>\n",
       "      <th>3</th>\n",
       "      <td>A3</td>\n",
       "      <td>49.292431</td>\n",
       "      <td>COCHIN</td>\n",
       "      <td>Platimum</td>\n",
       "      <td>INR 10,000.00</td>\n",
       "      <td>C3</td>\n",
       "      <td>Salaried_Pvt</td>\n",
       "      <td>Middle-aged Adults</td>\n",
       "    </tr>\n",
       "    <tr>\n",
       "      <th>4</th>\n",
       "      <td>A4</td>\n",
       "      <td>45.820300</td>\n",
       "      <td>BOMBAY</td>\n",
       "      <td>Platimum</td>\n",
       "      <td>INR 10,001.00</td>\n",
       "      <td>C4</td>\n",
       "      <td>Govt</td>\n",
       "      <td>Middle-aged Adults</td>\n",
       "    </tr>\n",
       "    <tr>\n",
       "      <th>5</th>\n",
       "      <td>A5</td>\n",
       "      <td>69.663900</td>\n",
       "      <td>BANGALORE</td>\n",
       "      <td>Platimum</td>\n",
       "      <td>INR 10,002.00</td>\n",
       "      <td>C5</td>\n",
       "      <td>Normal Salary</td>\n",
       "      <td>Senior Citizens</td>\n",
       "    </tr>\n",
       "  </tbody>\n",
       "</table>\n",
       "</div>"
      ],
      "text/plain": [
       "       Customer        Age       City Credit Card Product           Limit  \\\n",
       "Sl No:                                                                      \n",
       "1            A1  49.292431  BANGALORE                Gold  INR 500,000.00   \n",
       "2            A2  35.534600   CALCUTTA              Silver  INR 100,000.00   \n",
       "3            A3  49.292431     COCHIN            Platimum   INR 10,000.00   \n",
       "4            A4  45.820300     BOMBAY            Platimum   INR 10,001.00   \n",
       "5            A5  69.663900  BANGALORE            Platimum   INR 10,002.00   \n",
       "\n",
       "       Company        Segment           Age Group  \n",
       "Sl No:                                             \n",
       "1           C1  Self Employed  Middle-aged Adults  \n",
       "2           C2   Salaried_MNC  Middle-aged Adults  \n",
       "3           C3   Salaried_Pvt  Middle-aged Adults  \n",
       "4           C4           Govt  Middle-aged Adults  \n",
       "5           C5  Normal Salary     Senior Citizens  "
      ]
     },
     "execution_count": 64,
     "metadata": {},
     "output_type": "execute_result"
    }
   ],
   "source": [
    "data.head()"
   ]
  },
  {
   "cell_type": "markdown",
   "id": "9ff4bc29",
   "metadata": {},
   "source": [
    "After this, all we have to do is find the highest spending age groups."
   ]
  },
  {
   "cell_type": "code",
   "execution_count": 65,
   "id": "a9c1eb58",
   "metadata": {},
   "outputs": [],
   "source": [
    "merged_data=pd.merge(data, spend, on='Customer', how='right')\n",
    "merged_data.drop(columns=['Age','City','Credit Card Product','Limit','Company','Segment'],inplace=True)"
   ]
  },
  {
   "cell_type": "code",
   "execution_count": 66,
   "id": "e4cefb82",
   "metadata": {},
   "outputs": [
    {
     "data": {
      "text/html": [
       "<div>\n",
       "<style scoped>\n",
       "    .dataframe tbody tr th:only-of-type {\n",
       "        vertical-align: middle;\n",
       "    }\n",
       "\n",
       "    .dataframe tbody tr th {\n",
       "        vertical-align: top;\n",
       "    }\n",
       "\n",
       "    .dataframe thead th {\n",
       "        text-align: right;\n",
       "    }\n",
       "</style>\n",
       "<table border=\"1\" class=\"dataframe\">\n",
       "  <thead>\n",
       "    <tr style=\"text-align: right;\">\n",
       "      <th></th>\n",
       "      <th>Customer</th>\n",
       "      <th>Age Group</th>\n",
       "      <th>Month</th>\n",
       "      <th>Type</th>\n",
       "      <th>Amount</th>\n",
       "      <th>year_month</th>\n",
       "    </tr>\n",
       "  </thead>\n",
       "  <tbody>\n",
       "    <tr>\n",
       "      <th>0</th>\n",
       "      <td>A1</td>\n",
       "      <td>Middle-aged Adults</td>\n",
       "      <td>2004-01-12</td>\n",
       "      <td>JEWELLERY</td>\n",
       "      <td>473776</td>\n",
       "      <td>2004-01</td>\n",
       "    </tr>\n",
       "    <tr>\n",
       "      <th>1</th>\n",
       "      <td>A1</td>\n",
       "      <td>Middle-aged Adults</td>\n",
       "      <td>2004-01-03</td>\n",
       "      <td>PETRO</td>\n",
       "      <td>335579</td>\n",
       "      <td>2004-01</td>\n",
       "    </tr>\n",
       "    <tr>\n",
       "      <th>2</th>\n",
       "      <td>A1</td>\n",
       "      <td>Middle-aged Adults</td>\n",
       "      <td>2004-01-15</td>\n",
       "      <td>CLOTHES</td>\n",
       "      <td>371041</td>\n",
       "      <td>2004-01</td>\n",
       "    </tr>\n",
       "    <tr>\n",
       "      <th>3</th>\n",
       "      <td>A1</td>\n",
       "      <td>Middle-aged Adults</td>\n",
       "      <td>2004-01-25</td>\n",
       "      <td>FOOD</td>\n",
       "      <td>141178</td>\n",
       "      <td>2004-01</td>\n",
       "    </tr>\n",
       "    <tr>\n",
       "      <th>4</th>\n",
       "      <td>A1</td>\n",
       "      <td>Middle-aged Adults</td>\n",
       "      <td>2004-01-12</td>\n",
       "      <td>TRAIN TICKET</td>\n",
       "      <td>52225</td>\n",
       "      <td>2004-01</td>\n",
       "    </tr>\n",
       "  </tbody>\n",
       "</table>\n",
       "</div>"
      ],
      "text/plain": [
       "  Customer           Age Group      Month          Type  Amount year_month\n",
       "0       A1  Middle-aged Adults 2004-01-12     JEWELLERY  473776    2004-01\n",
       "1       A1  Middle-aged Adults 2004-01-03         PETRO  335579    2004-01\n",
       "2       A1  Middle-aged Adults 2004-01-15       CLOTHES  371041    2004-01\n",
       "3       A1  Middle-aged Adults 2004-01-25          FOOD  141178    2004-01\n",
       "4       A1  Middle-aged Adults 2004-01-12  TRAIN TICKET   52225    2004-01"
      ]
     },
     "execution_count": 66,
     "metadata": {},
     "output_type": "execute_result"
    }
   ],
   "source": [
    "merged_data.head()"
   ]
  },
  {
   "cell_type": "markdown",
   "id": "025302e6",
   "metadata": {},
   "source": [
    "This merged dataframe gives us the information about the age group of each customer during each transaction.  \n",
    "Now all we have to do is find the highest spending sector in each month"
   ]
  },
  {
   "cell_type": "markdown",
   "id": "faf17228",
   "metadata": {},
   "source": [
    "#### Highest spending age group in each month"
   ]
  },
  {
   "cell_type": "code",
   "execution_count": 67,
   "id": "9af15762",
   "metadata": {},
   "outputs": [],
   "source": [
    "parameter=1\n",
    "totalSpending = merged_data.groupby(['year_month', 'Age Group'])['Amount'].sum().reset_index()\n",
    "totalSpending = totalSpending.sort_values(by='Amount', ascending=False)\n",
    "top_month_Age = totalSpending.groupby('year_month').apply(lambda x: x.nlargest(parameter, 'Amount')).reset_index(drop=True)"
   ]
  },
  {
   "cell_type": "markdown",
   "id": "3075d9f2",
   "metadata": {},
   "source": [
    "Again the **parameter** variable can decide how many higher age groups we want for each month."
   ]
  },
  {
   "cell_type": "markdown",
   "id": "3b6c927c",
   "metadata": {},
   "source": [
    "#### Make it more appropriate to see"
   ]
  },
  {
   "cell_type": "code",
   "execution_count": 68,
   "id": "4d1effff",
   "metadata": {},
   "outputs": [],
   "source": [
    "top_month_Age['year_month']=pd.to_datetime(top_month_Age['year_month'])\n",
    "top_month_Age['Year'] = top_month_Age['year_month'].dt.year\n",
    "top_month_Age['Month'] = top_month_Age['year_month'].dt.month\n",
    "top_month_Age['Month'] = top_month_Age['Month'].apply(lambda x: calendar.month_name[x])"
   ]
  },
  {
   "cell_type": "code",
   "execution_count": 69,
   "id": "b74601fb",
   "metadata": {},
   "outputs": [],
   "source": [
    "top_month_Age.drop(columns=['year_month'],inplace=True)\n",
    "top_month_Age = top_month_Age[['Age Group', 'Month', 'Year', 'Amount']]\n",
    "top_month_Age['Month'] = top_month_Age['Month'].astype(str) + '-' + top_month_Age['Year'].astype(str)\n",
    "top_month_Age.drop(columns=['Year'],inplace=True)\n",
    "top_month_Age.reset_index(drop=True, inplace=True)"
   ]
  },
  {
   "cell_type": "markdown",
   "id": "2187391b",
   "metadata": {},
   "source": [
    "### OUTPUT"
   ]
  },
  {
   "cell_type": "code",
   "execution_count": 70,
   "id": "fdd491e7",
   "metadata": {},
   "outputs": [
    {
     "data": {
      "text/html": [
       "<div>\n",
       "<style scoped>\n",
       "    .dataframe tbody tr th:only-of-type {\n",
       "        vertical-align: middle;\n",
       "    }\n",
       "\n",
       "    .dataframe tbody tr th {\n",
       "        vertical-align: top;\n",
       "    }\n",
       "\n",
       "    .dataframe thead th {\n",
       "        text-align: right;\n",
       "    }\n",
       "</style>\n",
       "<table border=\"1\" class=\"dataframe\">\n",
       "  <thead>\n",
       "    <tr style=\"text-align: right;\">\n",
       "      <th></th>\n",
       "      <th>Age Group</th>\n",
       "      <th>Month</th>\n",
       "      <th>Amount</th>\n",
       "    </tr>\n",
       "  </thead>\n",
       "  <tbody>\n",
       "    <tr>\n",
       "      <th>0</th>\n",
       "      <td>Middle-aged Adults</td>\n",
       "      <td>January-2004</td>\n",
       "      <td>36420452</td>\n",
       "    </tr>\n",
       "    <tr>\n",
       "      <th>1</th>\n",
       "      <td>Middle-aged Adults</td>\n",
       "      <td>February-2004</td>\n",
       "      <td>3017881</td>\n",
       "    </tr>\n",
       "    <tr>\n",
       "      <th>2</th>\n",
       "      <td>Middle-aged Adults</td>\n",
       "      <td>March-2004</td>\n",
       "      <td>2053377</td>\n",
       "    </tr>\n",
       "    <tr>\n",
       "      <th>3</th>\n",
       "      <td>Middle-aged Adults</td>\n",
       "      <td>April-2004</td>\n",
       "      <td>3467275</td>\n",
       "    </tr>\n",
       "    <tr>\n",
       "      <th>4</th>\n",
       "      <td>Middle-aged Adults</td>\n",
       "      <td>May-2004</td>\n",
       "      <td>2357354</td>\n",
       "    </tr>\n",
       "    <tr>\n",
       "      <th>5</th>\n",
       "      <td>Middle-aged Adults</td>\n",
       "      <td>September-2004</td>\n",
       "      <td>1584260</td>\n",
       "    </tr>\n",
       "    <tr>\n",
       "      <th>6</th>\n",
       "      <td>Middle-aged Adults</td>\n",
       "      <td>November-2004</td>\n",
       "      <td>2187926</td>\n",
       "    </tr>\n",
       "    <tr>\n",
       "      <th>7</th>\n",
       "      <td>Middle-aged Adults</td>\n",
       "      <td>January-2005</td>\n",
       "      <td>3467565</td>\n",
       "    </tr>\n",
       "    <tr>\n",
       "      <th>8</th>\n",
       "      <td>Middle-aged Adults</td>\n",
       "      <td>February-2005</td>\n",
       "      <td>21517642</td>\n",
       "    </tr>\n",
       "    <tr>\n",
       "      <th>9</th>\n",
       "      <td>Middle-aged Adults</td>\n",
       "      <td>April-2005</td>\n",
       "      <td>3685015</td>\n",
       "    </tr>\n",
       "    <tr>\n",
       "      <th>10</th>\n",
       "      <td>Middle-aged Adults</td>\n",
       "      <td>May-2005</td>\n",
       "      <td>16644973</td>\n",
       "    </tr>\n",
       "    <tr>\n",
       "      <th>11</th>\n",
       "      <td>Middle-aged Adults</td>\n",
       "      <td>June-2005</td>\n",
       "      <td>5657122</td>\n",
       "    </tr>\n",
       "    <tr>\n",
       "      <th>12</th>\n",
       "      <td>Middle-aged Adults</td>\n",
       "      <td>July-2005</td>\n",
       "      <td>1419992</td>\n",
       "    </tr>\n",
       "    <tr>\n",
       "      <th>13</th>\n",
       "      <td>Middle-aged Adults</td>\n",
       "      <td>August-2005</td>\n",
       "      <td>3070327</td>\n",
       "    </tr>\n",
       "    <tr>\n",
       "      <th>14</th>\n",
       "      <td>Senior Citizens</td>\n",
       "      <td>September-2005</td>\n",
       "      <td>1561269</td>\n",
       "    </tr>\n",
       "    <tr>\n",
       "      <th>15</th>\n",
       "      <td>Middle-aged Adults</td>\n",
       "      <td>October-2005</td>\n",
       "      <td>1699229</td>\n",
       "    </tr>\n",
       "    <tr>\n",
       "      <th>16</th>\n",
       "      <td>Middle-aged Adults</td>\n",
       "      <td>November-2005</td>\n",
       "      <td>7199447</td>\n",
       "    </tr>\n",
       "    <tr>\n",
       "      <th>17</th>\n",
       "      <td>Middle-aged Adults</td>\n",
       "      <td>December-2005</td>\n",
       "      <td>1800423</td>\n",
       "    </tr>\n",
       "    <tr>\n",
       "      <th>18</th>\n",
       "      <td>Middle-aged Adults</td>\n",
       "      <td>January-2006</td>\n",
       "      <td>1548286</td>\n",
       "    </tr>\n",
       "    <tr>\n",
       "      <th>19</th>\n",
       "      <td>Middle-aged Adults</td>\n",
       "      <td>February-2006</td>\n",
       "      <td>6142033</td>\n",
       "    </tr>\n",
       "    <tr>\n",
       "      <th>20</th>\n",
       "      <td>Middle-aged Adults</td>\n",
       "      <td>March-2006</td>\n",
       "      <td>24941020</td>\n",
       "    </tr>\n",
       "    <tr>\n",
       "      <th>21</th>\n",
       "      <td>Middle-aged Adults</td>\n",
       "      <td>April-2006</td>\n",
       "      <td>11975951</td>\n",
       "    </tr>\n",
       "    <tr>\n",
       "      <th>22</th>\n",
       "      <td>Middle-aged Adults</td>\n",
       "      <td>May-2006</td>\n",
       "      <td>5903743</td>\n",
       "    </tr>\n",
       "    <tr>\n",
       "      <th>23</th>\n",
       "      <td>Senior Citizens</td>\n",
       "      <td>June-2006</td>\n",
       "      <td>1994740</td>\n",
       "    </tr>\n",
       "    <tr>\n",
       "      <th>24</th>\n",
       "      <td>Middle-aged Adults</td>\n",
       "      <td>July-2006</td>\n",
       "      <td>4399843</td>\n",
       "    </tr>\n",
       "    <tr>\n",
       "      <th>25</th>\n",
       "      <td>Middle-aged Adults</td>\n",
       "      <td>August-2006</td>\n",
       "      <td>1179002</td>\n",
       "    </tr>\n",
       "    <tr>\n",
       "      <th>26</th>\n",
       "      <td>Senior Citizens</td>\n",
       "      <td>September-2006</td>\n",
       "      <td>1435285</td>\n",
       "    </tr>\n",
       "    <tr>\n",
       "      <th>27</th>\n",
       "      <td>Middle-aged Adults</td>\n",
       "      <td>October-2006</td>\n",
       "      <td>2152245</td>\n",
       "    </tr>\n",
       "    <tr>\n",
       "      <th>28</th>\n",
       "      <td>Middle-aged Adults</td>\n",
       "      <td>November-2006</td>\n",
       "      <td>3710974</td>\n",
       "    </tr>\n",
       "    <tr>\n",
       "      <th>29</th>\n",
       "      <td>Middle-aged Adults</td>\n",
       "      <td>December-2006</td>\n",
       "      <td>1841883</td>\n",
       "    </tr>\n",
       "  </tbody>\n",
       "</table>\n",
       "</div>"
      ],
      "text/plain": [
       "             Age Group           Month    Amount\n",
       "0   Middle-aged Adults    January-2004  36420452\n",
       "1   Middle-aged Adults   February-2004   3017881\n",
       "2   Middle-aged Adults      March-2004   2053377\n",
       "3   Middle-aged Adults      April-2004   3467275\n",
       "4   Middle-aged Adults        May-2004   2357354\n",
       "5   Middle-aged Adults  September-2004   1584260\n",
       "6   Middle-aged Adults   November-2004   2187926\n",
       "7   Middle-aged Adults    January-2005   3467565\n",
       "8   Middle-aged Adults   February-2005  21517642\n",
       "9   Middle-aged Adults      April-2005   3685015\n",
       "10  Middle-aged Adults        May-2005  16644973\n",
       "11  Middle-aged Adults       June-2005   5657122\n",
       "12  Middle-aged Adults       July-2005   1419992\n",
       "13  Middle-aged Adults     August-2005   3070327\n",
       "14     Senior Citizens  September-2005   1561269\n",
       "15  Middle-aged Adults    October-2005   1699229\n",
       "16  Middle-aged Adults   November-2005   7199447\n",
       "17  Middle-aged Adults   December-2005   1800423\n",
       "18  Middle-aged Adults    January-2006   1548286\n",
       "19  Middle-aged Adults   February-2006   6142033\n",
       "20  Middle-aged Adults      March-2006  24941020\n",
       "21  Middle-aged Adults      April-2006  11975951\n",
       "22  Middle-aged Adults        May-2006   5903743\n",
       "23     Senior Citizens       June-2006   1994740\n",
       "24  Middle-aged Adults       July-2006   4399843\n",
       "25  Middle-aged Adults     August-2006   1179002\n",
       "26     Senior Citizens  September-2006   1435285\n",
       "27  Middle-aged Adults    October-2006   2152245\n",
       "28  Middle-aged Adults   November-2006   3710974\n",
       "29  Middle-aged Adults   December-2006   1841883"
      ]
     },
     "execution_count": 70,
     "metadata": {},
     "output_type": "execute_result"
    }
   ],
   "source": [
    "top_month_Age"
   ]
  },
  {
   "cell_type": "markdown",
   "id": "56d6f4af",
   "metadata": {},
   "source": [
    "#### pie chart for better visualization"
   ]
  },
  {
   "cell_type": "code",
   "execution_count": 71,
   "id": "c62b5db0",
   "metadata": {},
   "outputs": [
    {
     "data": {
      "image/png": "[encoded data removed]",
      "text/plain": [
       "<Figure size 576x576 with 1 Axes>"
      ]
     },
     "metadata": {},
     "output_type": "display_data"
    }
   ],
   "source": [
    "top_month_Age['Age Group'] = top_month_Age['Age Group'].astype(str)\n",
    "top_month_Age['Label'] = top_month_Age['Age Group'] + ' - ' + top_month_Age['Month']\n",
    "\n",
    "plt.figure(figsize=(8, 8))\n",
    "plt.pie(top_month_Age['Amount'], labels=top_month_Age['Label'], autopct='%1.1f%%', startangle=140, colors=plt.cm.Paired.colors)\n",
    "plt.title('Hishest spending segments each month')\n",
    "plt.axis('equal')\n",
    "plt.show()"
   ]
  },
  {
   "cell_type": "markdown",
   "id": "bcb73871",
   "metadata": {},
   "source": [
    "#### Save the dataframe in a new csv file"
   ]
  },
  {
   "cell_type": "code",
   "execution_count": 72,
   "id": "ccfe55e6",
   "metadata": {},
   "outputs": [],
   "source": [
    "# top_month_Age.to_csv('Task5.csv')"
   ]
  },
  {
   "cell_type": "markdown",
   "id": "f40dbb0a",
   "metadata": {},
   "source": [
    "## Task 6-Most profitable segment"
   ]
  },
  {
   "cell_type": "markdown",
   "id": "790a3d92",
   "metadata": {},
   "source": [
    "The first step is to find the profit which is basically the difference between spent and repaid amount."
   ]
  },
  {
   "cell_type": "code",
   "execution_count": 73,
   "id": "8571c1d9",
   "metadata": {
    "scrolled": true
   },
   "outputs": [
    {
     "data": {
      "text/html": [
       "<div>\n",
       "<style scoped>\n",
       "    .dataframe tbody tr th:only-of-type {\n",
       "        vertical-align: middle;\n",
       "    }\n",
       "\n",
       "    .dataframe tbody tr th {\n",
       "        vertical-align: top;\n",
       "    }\n",
       "\n",
       "    .dataframe thead th {\n",
       "        text-align: right;\n",
       "    }\n",
       "</style>\n",
       "<table border=\"1\" class=\"dataframe\">\n",
       "  <thead>\n",
       "    <tr style=\"text-align: right;\">\n",
       "      <th></th>\n",
       "      <th>Customer</th>\n",
       "      <th>Month</th>\n",
       "      <th>Type</th>\n",
       "      <th>Amount</th>\n",
       "      <th>year_month</th>\n",
       "    </tr>\n",
       "  </thead>\n",
       "  <tbody>\n",
       "    <tr>\n",
       "      <th>0</th>\n",
       "      <td>A1</td>\n",
       "      <td>2004-01-12</td>\n",
       "      <td>JEWELLERY</td>\n",
       "      <td>473776</td>\n",
       "      <td>2004-01</td>\n",
       "    </tr>\n",
       "    <tr>\n",
       "      <th>1</th>\n",
       "      <td>A1</td>\n",
       "      <td>2004-01-03</td>\n",
       "      <td>PETRO</td>\n",
       "      <td>335579</td>\n",
       "      <td>2004-01</td>\n",
       "    </tr>\n",
       "    <tr>\n",
       "      <th>2</th>\n",
       "      <td>A1</td>\n",
       "      <td>2004-01-15</td>\n",
       "      <td>CLOTHES</td>\n",
       "      <td>371041</td>\n",
       "      <td>2004-01</td>\n",
       "    </tr>\n",
       "    <tr>\n",
       "      <th>3</th>\n",
       "      <td>A1</td>\n",
       "      <td>2004-01-25</td>\n",
       "      <td>FOOD</td>\n",
       "      <td>141178</td>\n",
       "      <td>2004-01</td>\n",
       "    </tr>\n",
       "    <tr>\n",
       "      <th>4</th>\n",
       "      <td>A1</td>\n",
       "      <td>2004-01-12</td>\n",
       "      <td>TRAIN TICKET</td>\n",
       "      <td>52225</td>\n",
       "      <td>2004-01</td>\n",
       "    </tr>\n",
       "  </tbody>\n",
       "</table>\n",
       "</div>"
      ],
      "text/plain": [
       "  Customer      Month          Type  Amount year_month\n",
       "0       A1 2004-01-12     JEWELLERY  473776    2004-01\n",
       "1       A1 2004-01-03         PETRO  335579    2004-01\n",
       "2       A1 2004-01-15       CLOTHES  371041    2004-01\n",
       "3       A1 2004-01-25          FOOD  141178    2004-01\n",
       "4       A1 2004-01-12  TRAIN TICKET   52225    2004-01"
      ]
     },
     "execution_count": 73,
     "metadata": {},
     "output_type": "execute_result"
    }
   ],
   "source": [
    "spend.head()"
   ]
  },
  {
   "cell_type": "markdown",
   "id": "d841663c",
   "metadata": {},
   "source": [
    "#### Create a new dataframe that contains both the spent and repaid amount and then calculate profit from it"
   ]
  },
  {
   "cell_type": "code",
   "execution_count": 74,
   "id": "1cddb61a",
   "metadata": {},
   "outputs": [],
   "source": [
    "profit=spend.copy()\n",
    "profit.rename(columns={'Amount':'Spend'},inplace=True)\n",
    "col=repayment['Amount']\n",
    "profit['Repayment']=col\n",
    "profit.drop(columns=['Type','Month'],inplace=True)\n",
    "profit=profit[['Customer','year_month','Spend','Repayment']]\n",
    "profit['Profit']=profit['Spend']-profit['Repayment']"
   ]
  },
  {
   "cell_type": "code",
   "execution_count": 75,
   "id": "cb2a3e11",
   "metadata": {},
   "outputs": [
    {
     "data": {
      "text/html": [
       "<div>\n",
       "<style scoped>\n",
       "    .dataframe tbody tr th:only-of-type {\n",
       "        vertical-align: middle;\n",
       "    }\n",
       "\n",
       "    .dataframe tbody tr th {\n",
       "        vertical-align: top;\n",
       "    }\n",
       "\n",
       "    .dataframe thead th {\n",
       "        text-align: right;\n",
       "    }\n",
       "</style>\n",
       "<table border=\"1\" class=\"dataframe\">\n",
       "  <thead>\n",
       "    <tr style=\"text-align: right;\">\n",
       "      <th></th>\n",
       "      <th>Customer</th>\n",
       "      <th>year_month</th>\n",
       "      <th>Spend</th>\n",
       "      <th>Repayment</th>\n",
       "      <th>Profit</th>\n",
       "    </tr>\n",
       "  </thead>\n",
       "  <tbody>\n",
       "    <tr>\n",
       "      <th>0</th>\n",
       "      <td>A1</td>\n",
       "      <td>2004-01</td>\n",
       "      <td>473776</td>\n",
       "      <td>331844.00740</td>\n",
       "      <td>141931.99260</td>\n",
       "    </tr>\n",
       "    <tr>\n",
       "      <th>1</th>\n",
       "      <td>A1</td>\n",
       "      <td>2004-01</td>\n",
       "      <td>335579</td>\n",
       "      <td>441139.80730</td>\n",
       "      <td>-105560.80730</td>\n",
       "    </tr>\n",
       "    <tr>\n",
       "      <th>2</th>\n",
       "      <td>A1</td>\n",
       "      <td>2004-01</td>\n",
       "      <td>371041</td>\n",
       "      <td>32480.00401</td>\n",
       "      <td>338560.99599</td>\n",
       "    </tr>\n",
       "    <tr>\n",
       "      <th>3</th>\n",
       "      <td>A1</td>\n",
       "      <td>2004-01</td>\n",
       "      <td>141178</td>\n",
       "      <td>90636.96653</td>\n",
       "      <td>50541.03347</td>\n",
       "    </tr>\n",
       "    <tr>\n",
       "      <th>4</th>\n",
       "      <td>A1</td>\n",
       "      <td>2004-01</td>\n",
       "      <td>52225</td>\n",
       "      <td>390074.79000</td>\n",
       "      <td>-337849.79000</td>\n",
       "    </tr>\n",
       "    <tr>\n",
       "      <th>...</th>\n",
       "      <td>...</td>\n",
       "      <td>...</td>\n",
       "      <td>...</td>\n",
       "      <td>...</td>\n",
       "      <td>...</td>\n",
       "    </tr>\n",
       "    <tr>\n",
       "      <th>1495</th>\n",
       "      <td>A96</td>\n",
       "      <td>2004-01</td>\n",
       "      <td>320364</td>\n",
       "      <td>110139.01410</td>\n",
       "      <td>210224.98590</td>\n",
       "    </tr>\n",
       "    <tr>\n",
       "      <th>1496</th>\n",
       "      <td>A97</td>\n",
       "      <td>2004-01</td>\n",
       "      <td>164330</td>\n",
       "      <td>174606.39230</td>\n",
       "      <td>-10276.39230</td>\n",
       "    </tr>\n",
       "    <tr>\n",
       "      <th>1497</th>\n",
       "      <td>A98</td>\n",
       "      <td>2004-01</td>\n",
       "      <td>87484</td>\n",
       "      <td>97802.59900</td>\n",
       "      <td>-10318.59900</td>\n",
       "    </tr>\n",
       "    <tr>\n",
       "      <th>1498</th>\n",
       "      <td>A99</td>\n",
       "      <td>2004-01</td>\n",
       "      <td>476020</td>\n",
       "      <td>358589.92430</td>\n",
       "      <td>117430.07570</td>\n",
       "    </tr>\n",
       "    <tr>\n",
       "      <th>1499</th>\n",
       "      <td>A100</td>\n",
       "      <td>2004-01</td>\n",
       "      <td>42254</td>\n",
       "      <td>151141.39190</td>\n",
       "      <td>-108887.39190</td>\n",
       "    </tr>\n",
       "  </tbody>\n",
       "</table>\n",
       "<p>1500 rows × 5 columns</p>\n",
       "</div>"
      ],
      "text/plain": [
       "     Customer year_month   Spend     Repayment        Profit\n",
       "0          A1    2004-01  473776  331844.00740  141931.99260\n",
       "1          A1    2004-01  335579  441139.80730 -105560.80730\n",
       "2          A1    2004-01  371041   32480.00401  338560.99599\n",
       "3          A1    2004-01  141178   90636.96653   50541.03347\n",
       "4          A1    2004-01   52225  390074.79000 -337849.79000\n",
       "...       ...        ...     ...           ...           ...\n",
       "1495      A96    2004-01  320364  110139.01410  210224.98590\n",
       "1496      A97    2004-01  164330  174606.39230  -10276.39230\n",
       "1497      A98    2004-01   87484   97802.59900  -10318.59900\n",
       "1498      A99    2004-01  476020  358589.92430  117430.07570\n",
       "1499     A100    2004-01   42254  151141.39190 -108887.39190\n",
       "\n",
       "[1500 rows x 5 columns]"
      ]
     },
     "execution_count": 75,
     "metadata": {},
     "output_type": "execute_result"
    }
   ],
   "source": [
    "profit"
   ]
  },
  {
   "cell_type": "markdown",
   "id": "bbc08bdc",
   "metadata": {},
   "source": [
    "Now we have to get  the segment for each customer transaction."
   ]
  },
  {
   "cell_type": "code",
   "execution_count": 76,
   "id": "1d6a5157",
   "metadata": {},
   "outputs": [],
   "source": [
    "merged_data=pd.merge(data, profit, on='Customer', how='right')\n",
    "merged_data.drop(columns=['Age','City','Credit Card Product','Limit','Company','Age Group','Spend','Repayment'],inplace=True)\n",
    "profit=merged_data.copy()"
   ]
  },
  {
   "cell_type": "code",
   "execution_count": 77,
   "id": "f9d471ff",
   "metadata": {
    "scrolled": true
   },
   "outputs": [
    {
     "data": {
      "text/html": [
       "<div>\n",
       "<style scoped>\n",
       "    .dataframe tbody tr th:only-of-type {\n",
       "        vertical-align: middle;\n",
       "    }\n",
       "\n",
       "    .dataframe tbody tr th {\n",
       "        vertical-align: top;\n",
       "    }\n",
       "\n",
       "    .dataframe thead th {\n",
       "        text-align: right;\n",
       "    }\n",
       "</style>\n",
       "<table border=\"1\" class=\"dataframe\">\n",
       "  <thead>\n",
       "    <tr style=\"text-align: right;\">\n",
       "      <th></th>\n",
       "      <th>Customer</th>\n",
       "      <th>Segment</th>\n",
       "      <th>year_month</th>\n",
       "      <th>Profit</th>\n",
       "    </tr>\n",
       "  </thead>\n",
       "  <tbody>\n",
       "    <tr>\n",
       "      <th>0</th>\n",
       "      <td>A1</td>\n",
       "      <td>Self Employed</td>\n",
       "      <td>2004-01</td>\n",
       "      <td>141931.99260</td>\n",
       "    </tr>\n",
       "    <tr>\n",
       "      <th>1</th>\n",
       "      <td>A1</td>\n",
       "      <td>Self Employed</td>\n",
       "      <td>2004-01</td>\n",
       "      <td>-105560.80730</td>\n",
       "    </tr>\n",
       "    <tr>\n",
       "      <th>2</th>\n",
       "      <td>A1</td>\n",
       "      <td>Self Employed</td>\n",
       "      <td>2004-01</td>\n",
       "      <td>338560.99599</td>\n",
       "    </tr>\n",
       "    <tr>\n",
       "      <th>3</th>\n",
       "      <td>A1</td>\n",
       "      <td>Self Employed</td>\n",
       "      <td>2004-01</td>\n",
       "      <td>50541.03347</td>\n",
       "    </tr>\n",
       "    <tr>\n",
       "      <th>4</th>\n",
       "      <td>A1</td>\n",
       "      <td>Self Employed</td>\n",
       "      <td>2004-01</td>\n",
       "      <td>-337849.79000</td>\n",
       "    </tr>\n",
       "  </tbody>\n",
       "</table>\n",
       "</div>"
      ],
      "text/plain": [
       "  Customer        Segment year_month        Profit\n",
       "0       A1  Self Employed    2004-01  141931.99260\n",
       "1       A1  Self Employed    2004-01 -105560.80730\n",
       "2       A1  Self Employed    2004-01  338560.99599\n",
       "3       A1  Self Employed    2004-01   50541.03347\n",
       "4       A1  Self Employed    2004-01 -337849.79000"
      ]
     },
     "execution_count": 77,
     "metadata": {},
     "output_type": "execute_result"
    }
   ],
   "source": [
    "profit.head()"
   ]
  },
  {
   "cell_type": "markdown",
   "id": "1c708e41",
   "metadata": {},
   "source": [
    "#### Most profitable segment"
   ]
  },
  {
   "cell_type": "code",
   "execution_count": 78,
   "id": "b7f5a906",
   "metadata": {},
   "outputs": [],
   "source": [
    "parameter=1\n",
    "totalProfit = profit.groupby(['year_month', 'Segment'])['Profit'].sum().reset_index()\n",
    "totalProfit = totalProfit.sort_values(by='Profit', ascending=False)\n",
    "profit_Segment = totalProfit.groupby('year_month').apply(lambda x: x.nlargest(parameter, 'Profit')).reset_index(drop=True)\n",
    "profit_Segment=profit_Segment.round()"
   ]
  },
  {
   "cell_type": "markdown",
   "id": "6eb31664",
   "metadata": {},
   "source": [
    "Thus we have got the segment for each month with the higest profit."
   ]
  },
  {
   "cell_type": "markdown",
   "id": "8a2b318c",
   "metadata": {},
   "source": [
    "#### Make it more appropriate to see"
   ]
  },
  {
   "cell_type": "code",
   "execution_count": 79,
   "id": "3d6f3108",
   "metadata": {},
   "outputs": [],
   "source": [
    "profit_Segment['year_month']=pd.to_datetime(profit_Segment['year_month'])\n",
    "profit_Segment['Year'] =profit_Segment['year_month'].dt.year\n",
    "profit_Segment['Month'] = profit_Segment['year_month'].dt.month\n",
    "profit_Segment['Month'] = profit_Segment['Month'].apply(lambda x: calendar.month_name[x])"
   ]
  },
  {
   "cell_type": "code",
   "execution_count": 80,
   "id": "ce72f2f9",
   "metadata": {},
   "outputs": [],
   "source": [
    "profit_Segment.drop(columns=['year_month'],inplace=True)\n",
    "profit_Segment = profit_Segment[['Segment', 'Month', 'Year', 'Profit']]\n",
    "profit_Segment['Month'] = profit_Segment['Month'].astype(str) + '-' + profit_Segment['Year'].astype(str)\n",
    "profit_Segment.drop(columns=['Year'],inplace=True)\n",
    "profit_Segment.reset_index(drop=True, inplace=True)"
   ]
  },
  {
   "cell_type": "markdown",
   "id": "d827b3ba",
   "metadata": {},
   "source": [
    "### OUTPUT"
   ]
  },
  {
   "cell_type": "code",
   "execution_count": 81,
   "id": "1761c385",
   "metadata": {},
   "outputs": [
    {
     "data": {
      "text/html": [
       "<div>\n",
       "<style scoped>\n",
       "    .dataframe tbody tr th:only-of-type {\n",
       "        vertical-align: middle;\n",
       "    }\n",
       "\n",
       "    .dataframe tbody tr th {\n",
       "        vertical-align: top;\n",
       "    }\n",
       "\n",
       "    .dataframe thead th {\n",
       "        text-align: right;\n",
       "    }\n",
       "</style>\n",
       "<table border=\"1\" class=\"dataframe\">\n",
       "  <thead>\n",
       "    <tr style=\"text-align: right;\">\n",
       "      <th></th>\n",
       "      <th>Segment</th>\n",
       "      <th>Month</th>\n",
       "      <th>Profit</th>\n",
       "    </tr>\n",
       "  </thead>\n",
       "  <tbody>\n",
       "    <tr>\n",
       "      <th>0</th>\n",
       "      <td>Normal Salary</td>\n",
       "      <td>January-2004</td>\n",
       "      <td>2408130.0</td>\n",
       "    </tr>\n",
       "    <tr>\n",
       "      <th>1</th>\n",
       "      <td>Self Employed</td>\n",
       "      <td>February-2004</td>\n",
       "      <td>782684.0</td>\n",
       "    </tr>\n",
       "    <tr>\n",
       "      <th>2</th>\n",
       "      <td>Self Employed</td>\n",
       "      <td>March-2004</td>\n",
       "      <td>33346.0</td>\n",
       "    </tr>\n",
       "    <tr>\n",
       "      <th>3</th>\n",
       "      <td>Self Employed</td>\n",
       "      <td>April-2004</td>\n",
       "      <td>377516.0</td>\n",
       "    </tr>\n",
       "    <tr>\n",
       "      <th>4</th>\n",
       "      <td>Govt</td>\n",
       "      <td>May-2004</td>\n",
       "      <td>747959.0</td>\n",
       "    </tr>\n",
       "    <tr>\n",
       "      <th>5</th>\n",
       "      <td>Salaried_MNC</td>\n",
       "      <td>September-2004</td>\n",
       "      <td>272565.0</td>\n",
       "    </tr>\n",
       "    <tr>\n",
       "      <th>6</th>\n",
       "      <td>Salaried_MNC</td>\n",
       "      <td>November-2004</td>\n",
       "      <td>445523.0</td>\n",
       "    </tr>\n",
       "    <tr>\n",
       "      <th>7</th>\n",
       "      <td>Normal Salary</td>\n",
       "      <td>January-2005</td>\n",
       "      <td>95736.0</td>\n",
       "    </tr>\n",
       "    <tr>\n",
       "      <th>8</th>\n",
       "      <td>Salaried_Pvt</td>\n",
       "      <td>February-2005</td>\n",
       "      <td>1289508.0</td>\n",
       "    </tr>\n",
       "    <tr>\n",
       "      <th>9</th>\n",
       "      <td>Salaried_Pvt</td>\n",
       "      <td>April-2005</td>\n",
       "      <td>1652050.0</td>\n",
       "    </tr>\n",
       "    <tr>\n",
       "      <th>10</th>\n",
       "      <td>Salaried_MNC</td>\n",
       "      <td>May-2005</td>\n",
       "      <td>1921428.0</td>\n",
       "    </tr>\n",
       "    <tr>\n",
       "      <th>11</th>\n",
       "      <td>Govt</td>\n",
       "      <td>June-2005</td>\n",
       "      <td>1423353.0</td>\n",
       "    </tr>\n",
       "    <tr>\n",
       "      <th>12</th>\n",
       "      <td>Salaried_MNC</td>\n",
       "      <td>July-2005</td>\n",
       "      <td>862831.0</td>\n",
       "    </tr>\n",
       "    <tr>\n",
       "      <th>13</th>\n",
       "      <td>Normal Salary</td>\n",
       "      <td>August-2005</td>\n",
       "      <td>827664.0</td>\n",
       "    </tr>\n",
       "    <tr>\n",
       "      <th>14</th>\n",
       "      <td>Normal Salary</td>\n",
       "      <td>September-2005</td>\n",
       "      <td>113445.0</td>\n",
       "    </tr>\n",
       "    <tr>\n",
       "      <th>15</th>\n",
       "      <td>Self Employed</td>\n",
       "      <td>October-2005</td>\n",
       "      <td>2025.0</td>\n",
       "    </tr>\n",
       "    <tr>\n",
       "      <th>16</th>\n",
       "      <td>Salaried_Pvt</td>\n",
       "      <td>November-2005</td>\n",
       "      <td>1165517.0</td>\n",
       "    </tr>\n",
       "    <tr>\n",
       "      <th>17</th>\n",
       "      <td>Govt</td>\n",
       "      <td>December-2005</td>\n",
       "      <td>267741.0</td>\n",
       "    </tr>\n",
       "    <tr>\n",
       "      <th>18</th>\n",
       "      <td>Normal Salary</td>\n",
       "      <td>January-2006</td>\n",
       "      <td>645010.0</td>\n",
       "    </tr>\n",
       "    <tr>\n",
       "      <th>19</th>\n",
       "      <td>Govt</td>\n",
       "      <td>February-2006</td>\n",
       "      <td>441658.0</td>\n",
       "    </tr>\n",
       "    <tr>\n",
       "      <th>20</th>\n",
       "      <td>Normal Salary</td>\n",
       "      <td>March-2006</td>\n",
       "      <td>1100097.0</td>\n",
       "    </tr>\n",
       "    <tr>\n",
       "      <th>21</th>\n",
       "      <td>Govt</td>\n",
       "      <td>April-2006</td>\n",
       "      <td>1461714.0</td>\n",
       "    </tr>\n",
       "    <tr>\n",
       "      <th>22</th>\n",
       "      <td>Govt</td>\n",
       "      <td>May-2006</td>\n",
       "      <td>904480.0</td>\n",
       "    </tr>\n",
       "    <tr>\n",
       "      <th>23</th>\n",
       "      <td>Normal Salary</td>\n",
       "      <td>June-2006</td>\n",
       "      <td>587997.0</td>\n",
       "    </tr>\n",
       "    <tr>\n",
       "      <th>24</th>\n",
       "      <td>Govt</td>\n",
       "      <td>July-2006</td>\n",
       "      <td>1439370.0</td>\n",
       "    </tr>\n",
       "    <tr>\n",
       "      <th>25</th>\n",
       "      <td>Self Employed</td>\n",
       "      <td>August-2006</td>\n",
       "      <td>275088.0</td>\n",
       "    </tr>\n",
       "    <tr>\n",
       "      <th>26</th>\n",
       "      <td>Salaried_MNC</td>\n",
       "      <td>September-2006</td>\n",
       "      <td>765140.0</td>\n",
       "    </tr>\n",
       "    <tr>\n",
       "      <th>27</th>\n",
       "      <td>Govt</td>\n",
       "      <td>October-2006</td>\n",
       "      <td>563078.0</td>\n",
       "    </tr>\n",
       "    <tr>\n",
       "      <th>28</th>\n",
       "      <td>Normal Salary</td>\n",
       "      <td>November-2006</td>\n",
       "      <td>760783.0</td>\n",
       "    </tr>\n",
       "    <tr>\n",
       "      <th>29</th>\n",
       "      <td>Salaried_Pvt</td>\n",
       "      <td>December-2006</td>\n",
       "      <td>304131.0</td>\n",
       "    </tr>\n",
       "  </tbody>\n",
       "</table>\n",
       "</div>"
      ],
      "text/plain": [
       "          Segment           Month     Profit\n",
       "0   Normal Salary    January-2004  2408130.0\n",
       "1   Self Employed   February-2004   782684.0\n",
       "2   Self Employed      March-2004    33346.0\n",
       "3   Self Employed      April-2004   377516.0\n",
       "4            Govt        May-2004   747959.0\n",
       "5    Salaried_MNC  September-2004   272565.0\n",
       "6    Salaried_MNC   November-2004   445523.0\n",
       "7   Normal Salary    January-2005    95736.0\n",
       "8    Salaried_Pvt   February-2005  1289508.0\n",
       "9    Salaried_Pvt      April-2005  1652050.0\n",
       "10   Salaried_MNC        May-2005  1921428.0\n",
       "11           Govt       June-2005  1423353.0\n",
       "12   Salaried_MNC       July-2005   862831.0\n",
       "13  Normal Salary     August-2005   827664.0\n",
       "14  Normal Salary  September-2005   113445.0\n",
       "15  Self Employed    October-2005     2025.0\n",
       "16   Salaried_Pvt   November-2005  1165517.0\n",
       "17           Govt   December-2005   267741.0\n",
       "18  Normal Salary    January-2006   645010.0\n",
       "19           Govt   February-2006   441658.0\n",
       "20  Normal Salary      March-2006  1100097.0\n",
       "21           Govt      April-2006  1461714.0\n",
       "22           Govt        May-2006   904480.0\n",
       "23  Normal Salary       June-2006   587997.0\n",
       "24           Govt       July-2006  1439370.0\n",
       "25  Self Employed     August-2006   275088.0\n",
       "26   Salaried_MNC  September-2006   765140.0\n",
       "27           Govt    October-2006   563078.0\n",
       "28  Normal Salary   November-2006   760783.0\n",
       "29   Salaried_Pvt   December-2006   304131.0"
      ]
     },
     "execution_count": 81,
     "metadata": {},
     "output_type": "execute_result"
    }
   ],
   "source": [
    "profit_Segment"
   ]
  },
  {
   "cell_type": "markdown",
   "id": "a8d9fe9d",
   "metadata": {},
   "source": [
    "#### pie chart for better visualization"
   ]
  },
  {
   "cell_type": "code",
   "execution_count": 82,
   "id": "2468499b",
   "metadata": {},
   "outputs": [
    {
     "data": {
      "image/png": "[encoded data removed]",
      "text/plain": [
       "<Figure size 576x576 with 1 Axes>"
      ]
     },
     "metadata": {},
     "output_type": "display_data"
    }
   ],
   "source": [
    "profit_Segment['Label'] = profit_Segment['Segment'] + ' - ' + profit_Segment['Month']\n",
    "\n",
    "plt.figure(figsize=(8, 8))\n",
    "plt.pie(profit_Segment['Profit'], labels=profit_Segment['Label'], autopct='%1.1f%%', startangle=140, colors=plt.cm.Paired.colors)\n",
    "plt.title('Most proffitable segments each month')\n",
    "plt.axis('equal')\n",
    "plt.show()"
   ]
  },
  {
   "cell_type": "markdown",
   "id": "542e64ea",
   "metadata": {},
   "source": [
    "#### Save the dataframe in a new file"
   ]
  },
  {
   "cell_type": "code",
   "execution_count": 83,
   "id": "c5ab7fb0",
   "metadata": {},
   "outputs": [],
   "source": [
    "# profit_Segment.to_csv('Task6.csv')"
   ]
  },
  {
   "cell_type": "markdown",
   "id": "8dc788f2",
   "metadata": {},
   "source": [
    "## Task 7- Category the customers are spending more money"
   ]
  },
  {
   "cell_type": "markdown",
   "id": "5d55d587",
   "metadata": {},
   "source": [
    "We will find all the categories in which people soend most money in each month."
   ]
  },
  {
   "cell_type": "code",
   "execution_count": 84,
   "id": "637bf1a2",
   "metadata": {},
   "outputs": [
    {
     "data": {
      "text/html": [
       "<div>\n",
       "<style scoped>\n",
       "    .dataframe tbody tr th:only-of-type {\n",
       "        vertical-align: middle;\n",
       "    }\n",
       "\n",
       "    .dataframe tbody tr th {\n",
       "        vertical-align: top;\n",
       "    }\n",
       "\n",
       "    .dataframe thead th {\n",
       "        text-align: right;\n",
       "    }\n",
       "</style>\n",
       "<table border=\"1\" class=\"dataframe\">\n",
       "  <thead>\n",
       "    <tr style=\"text-align: right;\">\n",
       "      <th></th>\n",
       "      <th>Customer</th>\n",
       "      <th>Month</th>\n",
       "      <th>Type</th>\n",
       "      <th>Amount</th>\n",
       "      <th>year_month</th>\n",
       "    </tr>\n",
       "  </thead>\n",
       "  <tbody>\n",
       "    <tr>\n",
       "      <th>0</th>\n",
       "      <td>A1</td>\n",
       "      <td>2004-01-12</td>\n",
       "      <td>JEWELLERY</td>\n",
       "      <td>473776</td>\n",
       "      <td>2004-01</td>\n",
       "    </tr>\n",
       "    <tr>\n",
       "      <th>1</th>\n",
       "      <td>A1</td>\n",
       "      <td>2004-01-03</td>\n",
       "      <td>PETRO</td>\n",
       "      <td>335579</td>\n",
       "      <td>2004-01</td>\n",
       "    </tr>\n",
       "    <tr>\n",
       "      <th>2</th>\n",
       "      <td>A1</td>\n",
       "      <td>2004-01-15</td>\n",
       "      <td>CLOTHES</td>\n",
       "      <td>371041</td>\n",
       "      <td>2004-01</td>\n",
       "    </tr>\n",
       "    <tr>\n",
       "      <th>3</th>\n",
       "      <td>A1</td>\n",
       "      <td>2004-01-25</td>\n",
       "      <td>FOOD</td>\n",
       "      <td>141178</td>\n",
       "      <td>2004-01</td>\n",
       "    </tr>\n",
       "    <tr>\n",
       "      <th>4</th>\n",
       "      <td>A1</td>\n",
       "      <td>2004-01-12</td>\n",
       "      <td>TRAIN TICKET</td>\n",
       "      <td>52225</td>\n",
       "      <td>2004-01</td>\n",
       "    </tr>\n",
       "  </tbody>\n",
       "</table>\n",
       "</div>"
      ],
      "text/plain": [
       "  Customer      Month          Type  Amount year_month\n",
       "0       A1 2004-01-12     JEWELLERY  473776    2004-01\n",
       "1       A1 2004-01-03         PETRO  335579    2004-01\n",
       "2       A1 2004-01-15       CLOTHES  371041    2004-01\n",
       "3       A1 2004-01-25          FOOD  141178    2004-01\n",
       "4       A1 2004-01-12  TRAIN TICKET   52225    2004-01"
      ]
     },
     "execution_count": 84,
     "metadata": {},
     "output_type": "execute_result"
    }
   ],
   "source": [
    "spend.head()"
   ]
  },
  {
   "cell_type": "markdown",
   "id": "5b29028b",
   "metadata": {},
   "source": [
    "Check how many categories there are in which people are spending the money."
   ]
  },
  {
   "cell_type": "code",
   "execution_count": 85,
   "id": "52157332",
   "metadata": {},
   "outputs": [
    {
     "data": {
      "text/plain": [
       "array(['JEWELLERY', 'PETRO', 'CLOTHES', 'FOOD', 'TRAIN TICKET',\n",
       "       'BUS TICKET', 'CAMERA', 'SANDALS', 'CAR', 'MOVIE TICKET',\n",
       "       'AIR TICKET', 'RENTAL', 'BIKE', 'AUTO', 'SHOPPING'], dtype=object)"
      ]
     },
     "execution_count": 85,
     "metadata": {},
     "output_type": "execute_result"
    }
   ],
   "source": [
    "spend['Type'].unique()"
   ]
  },
  {
   "cell_type": "markdown",
   "id": "28ba58e3",
   "metadata": {},
   "source": [
    "#### Finding the best category monthly"
   ]
  },
  {
   "cell_type": "code",
   "execution_count": 86,
   "id": "76a4b3fb",
   "metadata": {},
   "outputs": [],
   "source": [
    "parameter=1\n",
    "category_spend = spend.groupby(['Type', 'year_month']).sum('Amount').reset_index()\n",
    "category_spend = category_spend.groupby('year_month').apply(lambda x: x.nlargest(parameter, 'Amount')).reset_index(drop=True)"
   ]
  },
  {
   "cell_type": "markdown",
   "id": "2a2e93ec",
   "metadata": {},
   "source": [
    "#### Make it more appropriate to see"
   ]
  },
  {
   "cell_type": "code",
   "execution_count": 87,
   "id": "371da1f7",
   "metadata": {},
   "outputs": [],
   "source": [
    "category_spend['year_month']=pd.to_datetime(category_spend['year_month'])\n",
    "category_spend['Year'] = category_spend['year_month'].dt.year\n",
    "category_spend['Month'] = category_spend['year_month'].dt.month\n",
    "category_spend['Month'] = category_spend['Month'].apply(lambda x: calendar.month_name[x])\n",
    "category_spend.drop(columns=['year_month'],inplace=True)\n",
    "category_spend = category_spend[['Type', 'Month', 'Year', 'Amount']]\n",
    "category_spend['Month'] = category_spend['Month'].astype(str) + '-' + category_spend['Year'].astype(str)\n",
    "category_spend.drop(columns=['Year'],inplace=True)\n",
    "category_spend.reset_index(drop=True, inplace=True)"
   ]
  },
  {
   "cell_type": "markdown",
   "id": "d3306d5a",
   "metadata": {},
   "source": [
    "### OUTPUT"
   ]
  },
  {
   "cell_type": "code",
   "execution_count": 88,
   "id": "8b431484",
   "metadata": {},
   "outputs": [
    {
     "data": {
      "text/html": [
       "<div>\n",
       "<style scoped>\n",
       "    .dataframe tbody tr th:only-of-type {\n",
       "        vertical-align: middle;\n",
       "    }\n",
       "\n",
       "    .dataframe tbody tr th {\n",
       "        vertical-align: top;\n",
       "    }\n",
       "\n",
       "    .dataframe thead th {\n",
       "        text-align: right;\n",
       "    }\n",
       "</style>\n",
       "<table border=\"1\" class=\"dataframe\">\n",
       "  <thead>\n",
       "    <tr style=\"text-align: right;\">\n",
       "      <th></th>\n",
       "      <th>Type</th>\n",
       "      <th>Month</th>\n",
       "      <th>Amount</th>\n",
       "    </tr>\n",
       "  </thead>\n",
       "  <tbody>\n",
       "    <tr>\n",
       "      <th>0</th>\n",
       "      <td>CAMERA</td>\n",
       "      <td>January-2004</td>\n",
       "      <td>14644502</td>\n",
       "    </tr>\n",
       "    <tr>\n",
       "      <th>1</th>\n",
       "      <td>BUS TICKET</td>\n",
       "      <td>February-2004</td>\n",
       "      <td>2051643</td>\n",
       "    </tr>\n",
       "    <tr>\n",
       "      <th>2</th>\n",
       "      <td>CAMERA</td>\n",
       "      <td>March-2004</td>\n",
       "      <td>1308173</td>\n",
       "    </tr>\n",
       "    <tr>\n",
       "      <th>3</th>\n",
       "      <td>BUS TICKET</td>\n",
       "      <td>April-2004</td>\n",
       "      <td>1705406</td>\n",
       "    </tr>\n",
       "    <tr>\n",
       "      <th>4</th>\n",
       "      <td>RENTAL</td>\n",
       "      <td>May-2004</td>\n",
       "      <td>2390532</td>\n",
       "    </tr>\n",
       "    <tr>\n",
       "      <th>5</th>\n",
       "      <td>CAR</td>\n",
       "      <td>September-2004</td>\n",
       "      <td>1503815</td>\n",
       "    </tr>\n",
       "    <tr>\n",
       "      <th>6</th>\n",
       "      <td>PETRO</td>\n",
       "      <td>November-2004</td>\n",
       "      <td>1453271</td>\n",
       "    </tr>\n",
       "    <tr>\n",
       "      <th>7</th>\n",
       "      <td>CAMERA</td>\n",
       "      <td>January-2005</td>\n",
       "      <td>2108909</td>\n",
       "    </tr>\n",
       "    <tr>\n",
       "      <th>8</th>\n",
       "      <td>TRAIN TICKET</td>\n",
       "      <td>February-2005</td>\n",
       "      <td>6041679</td>\n",
       "    </tr>\n",
       "    <tr>\n",
       "      <th>9</th>\n",
       "      <td>TRAIN TICKET</td>\n",
       "      <td>April-2005</td>\n",
       "      <td>3456029</td>\n",
       "    </tr>\n",
       "    <tr>\n",
       "      <th>10</th>\n",
       "      <td>PETRO</td>\n",
       "      <td>May-2005</td>\n",
       "      <td>5794860</td>\n",
       "    </tr>\n",
       "    <tr>\n",
       "      <th>11</th>\n",
       "      <td>CAMERA</td>\n",
       "      <td>June-2005</td>\n",
       "      <td>4418063</td>\n",
       "    </tr>\n",
       "    <tr>\n",
       "      <th>12</th>\n",
       "      <td>CAMERA</td>\n",
       "      <td>July-2005</td>\n",
       "      <td>2090935</td>\n",
       "    </tr>\n",
       "    <tr>\n",
       "      <th>13</th>\n",
       "      <td>SHOPPING</td>\n",
       "      <td>August-2005</td>\n",
       "      <td>1525402</td>\n",
       "    </tr>\n",
       "    <tr>\n",
       "      <th>14</th>\n",
       "      <td>AIR TICKET</td>\n",
       "      <td>September-2005</td>\n",
       "      <td>1772252</td>\n",
       "    </tr>\n",
       "    <tr>\n",
       "      <th>15</th>\n",
       "      <td>BUS TICKET</td>\n",
       "      <td>October-2005</td>\n",
       "      <td>1037811</td>\n",
       "    </tr>\n",
       "    <tr>\n",
       "      <th>16</th>\n",
       "      <td>PETRO</td>\n",
       "      <td>November-2005</td>\n",
       "      <td>2657720</td>\n",
       "    </tr>\n",
       "    <tr>\n",
       "      <th>17</th>\n",
       "      <td>RENTAL</td>\n",
       "      <td>December-2005</td>\n",
       "      <td>1701078</td>\n",
       "    </tr>\n",
       "    <tr>\n",
       "      <th>18</th>\n",
       "      <td>MOVIE TICKET</td>\n",
       "      <td>January-2006</td>\n",
       "      <td>1746835</td>\n",
       "    </tr>\n",
       "    <tr>\n",
       "      <th>19</th>\n",
       "      <td>BIKE</td>\n",
       "      <td>February-2006</td>\n",
       "      <td>2636012</td>\n",
       "    </tr>\n",
       "    <tr>\n",
       "      <th>20</th>\n",
       "      <td>CAMERA</td>\n",
       "      <td>March-2006</td>\n",
       "      <td>6977800</td>\n",
       "    </tr>\n",
       "    <tr>\n",
       "      <th>21</th>\n",
       "      <td>PETRO</td>\n",
       "      <td>April-2006</td>\n",
       "      <td>3958966</td>\n",
       "    </tr>\n",
       "    <tr>\n",
       "      <th>22</th>\n",
       "      <td>AIR TICKET</td>\n",
       "      <td>May-2006</td>\n",
       "      <td>3894931</td>\n",
       "    </tr>\n",
       "    <tr>\n",
       "      <th>23</th>\n",
       "      <td>BUS TICKET</td>\n",
       "      <td>June-2006</td>\n",
       "      <td>2062148</td>\n",
       "    </tr>\n",
       "    <tr>\n",
       "      <th>24</th>\n",
       "      <td>TRAIN TICKET</td>\n",
       "      <td>July-2006</td>\n",
       "      <td>2305288</td>\n",
       "    </tr>\n",
       "    <tr>\n",
       "      <th>25</th>\n",
       "      <td>RENTAL</td>\n",
       "      <td>August-2006</td>\n",
       "      <td>1636189</td>\n",
       "    </tr>\n",
       "    <tr>\n",
       "      <th>26</th>\n",
       "      <td>MOVIE TICKET</td>\n",
       "      <td>September-2006</td>\n",
       "      <td>1792551</td>\n",
       "    </tr>\n",
       "    <tr>\n",
       "      <th>27</th>\n",
       "      <td>JEWELLERY</td>\n",
       "      <td>October-2006</td>\n",
       "      <td>1643753</td>\n",
       "    </tr>\n",
       "    <tr>\n",
       "      <th>28</th>\n",
       "      <td>PETRO</td>\n",
       "      <td>November-2006</td>\n",
       "      <td>2473711</td>\n",
       "    </tr>\n",
       "    <tr>\n",
       "      <th>29</th>\n",
       "      <td>CLOTHES</td>\n",
       "      <td>December-2006</td>\n",
       "      <td>944862</td>\n",
       "    </tr>\n",
       "  </tbody>\n",
       "</table>\n",
       "</div>"
      ],
      "text/plain": [
       "            Type           Month    Amount\n",
       "0         CAMERA    January-2004  14644502\n",
       "1     BUS TICKET   February-2004   2051643\n",
       "2         CAMERA      March-2004   1308173\n",
       "3     BUS TICKET      April-2004   1705406\n",
       "4         RENTAL        May-2004   2390532\n",
       "5            CAR  September-2004   1503815\n",
       "6          PETRO   November-2004   1453271\n",
       "7         CAMERA    January-2005   2108909\n",
       "8   TRAIN TICKET   February-2005   6041679\n",
       "9   TRAIN TICKET      April-2005   3456029\n",
       "10         PETRO        May-2005   5794860\n",
       "11        CAMERA       June-2005   4418063\n",
       "12        CAMERA       July-2005   2090935\n",
       "13      SHOPPING     August-2005   1525402\n",
       "14    AIR TICKET  September-2005   1772252\n",
       "15    BUS TICKET    October-2005   1037811\n",
       "16         PETRO   November-2005   2657720\n",
       "17        RENTAL   December-2005   1701078\n",
       "18  MOVIE TICKET    January-2006   1746835\n",
       "19          BIKE   February-2006   2636012\n",
       "20        CAMERA      March-2006   6977800\n",
       "21         PETRO      April-2006   3958966\n",
       "22    AIR TICKET        May-2006   3894931\n",
       "23    BUS TICKET       June-2006   2062148\n",
       "24  TRAIN TICKET       July-2006   2305288\n",
       "25        RENTAL     August-2006   1636189\n",
       "26  MOVIE TICKET  September-2006   1792551\n",
       "27     JEWELLERY    October-2006   1643753\n",
       "28         PETRO   November-2006   2473711\n",
       "29       CLOTHES   December-2006    944862"
      ]
     },
     "execution_count": 88,
     "metadata": {},
     "output_type": "execute_result"
    }
   ],
   "source": [
    "category_spend"
   ]
  },
  {
   "cell_type": "markdown",
   "id": "2dd8bf67",
   "metadata": {},
   "source": [
    "#### pie chart for better visualization"
   ]
  },
  {
   "cell_type": "code",
   "execution_count": 89,
   "id": "dfe88091",
   "metadata": {},
   "outputs": [
    {
     "data": {
      "image/png": "[encoded data removed]",
      "text/plain": [
       "<Figure size 576x576 with 1 Axes>"
      ]
     },
     "metadata": {},
     "output_type": "display_data"
    }
   ],
   "source": [
    "category_spend['Label'] = category_spend['Type'] + ' - ' + category_spend['Month']\n",
    "\n",
    "plt.figure(figsize=(8, 8))\n",
    "plt.pie(category_spend['Amount'], labels=category_spend['Label'], autopct='%1.1f%%', startangle=140, colors=plt.cm.Paired.colors)\n",
    "plt.axis('equal')\n",
    "plt.show()"
   ]
  },
  {
   "cell_type": "markdown",
   "id": "4d0392a7",
   "metadata": {},
   "source": [
    "#### Save the dataframe in a new csv file"
   ]
  },
  {
   "cell_type": "code",
   "execution_count": 90,
   "id": "0156710d",
   "metadata": {},
   "outputs": [],
   "source": [
    "# category_spend.to_csv('Task7.csv')"
   ]
  },
  {
   "cell_type": "markdown",
   "id": "a6dfd253",
   "metadata": {},
   "source": [
    "## Task 8-Impose an interest rate of 2.9% for each customer for any due amount.\n"
   ]
  },
  {
   "cell_type": "markdown",
   "id": "58782080",
   "metadata": {},
   "source": [
    "We have to find the due amount for all customer transactions."
   ]
  },
  {
   "cell_type": "markdown",
   "id": "b13a0141",
   "metadata": {},
   "source": [
    "**Balance=Amount Spent-Amount Repaid**  \n",
    "**Interest=Balance*Interest Rate**  \n",
    "**Due Amount=Balance+Interest**"
   ]
  },
  {
   "cell_type": "markdown",
   "id": "b21ee13d",
   "metadata": {},
   "source": [
    "First make a dataframe with both spent amount and repaid amount"
   ]
  },
  {
   "cell_type": "code",
   "execution_count": 91,
   "id": "6307e43c",
   "metadata": {},
   "outputs": [],
   "source": [
    "due_amount=spend.copy()\n",
    "due_amount.rename(columns={'Amount':'Spend'},inplace=True)\n",
    "col=repayment['Amount']\n",
    "due_amount['Repayment']=col\n",
    "due_amount.drop(columns=['Type','year_month'],inplace=True)\n",
    "due_amount=due_amount[['Customer','Month','Spend','Repayment']]"
   ]
  },
  {
   "cell_type": "code",
   "execution_count": 92,
   "id": "03202ceb",
   "metadata": {
    "scrolled": true
   },
   "outputs": [
    {
     "data": {
      "text/html": [
       "<div>\n",
       "<style scoped>\n",
       "    .dataframe tbody tr th:only-of-type {\n",
       "        vertical-align: middle;\n",
       "    }\n",
       "\n",
       "    .dataframe tbody tr th {\n",
       "        vertical-align: top;\n",
       "    }\n",
       "\n",
       "    .dataframe thead th {\n",
       "        text-align: right;\n",
       "    }\n",
       "</style>\n",
       "<table border=\"1\" class=\"dataframe\">\n",
       "  <thead>\n",
       "    <tr style=\"text-align: right;\">\n",
       "      <th></th>\n",
       "      <th>Customer</th>\n",
       "      <th>Month</th>\n",
       "      <th>Spend</th>\n",
       "      <th>Repayment</th>\n",
       "    </tr>\n",
       "  </thead>\n",
       "  <tbody>\n",
       "    <tr>\n",
       "      <th>0</th>\n",
       "      <td>A1</td>\n",
       "      <td>2004-01-12</td>\n",
       "      <td>473776</td>\n",
       "      <td>331844.00740</td>\n",
       "    </tr>\n",
       "    <tr>\n",
       "      <th>1</th>\n",
       "      <td>A1</td>\n",
       "      <td>2004-01-03</td>\n",
       "      <td>335579</td>\n",
       "      <td>441139.80730</td>\n",
       "    </tr>\n",
       "    <tr>\n",
       "      <th>2</th>\n",
       "      <td>A1</td>\n",
       "      <td>2004-01-15</td>\n",
       "      <td>371041</td>\n",
       "      <td>32480.00401</td>\n",
       "    </tr>\n",
       "    <tr>\n",
       "      <th>3</th>\n",
       "      <td>A1</td>\n",
       "      <td>2004-01-25</td>\n",
       "      <td>141178</td>\n",
       "      <td>90636.96653</td>\n",
       "    </tr>\n",
       "    <tr>\n",
       "      <th>4</th>\n",
       "      <td>A1</td>\n",
       "      <td>2004-01-12</td>\n",
       "      <td>52225</td>\n",
       "      <td>390074.79000</td>\n",
       "    </tr>\n",
       "  </tbody>\n",
       "</table>\n",
       "</div>"
      ],
      "text/plain": [
       "  Customer      Month   Spend     Repayment\n",
       "0       A1 2004-01-12  473776  331844.00740\n",
       "1       A1 2004-01-03  335579  441139.80730\n",
       "2       A1 2004-01-15  371041   32480.00401\n",
       "3       A1 2004-01-25  141178   90636.96653\n",
       "4       A1 2004-01-12   52225  390074.79000"
      ]
     },
     "execution_count": 92,
     "metadata": {},
     "output_type": "execute_result"
    }
   ],
   "source": [
    "due_amount.head()"
   ]
  },
  {
   "cell_type": "markdown",
   "id": "456ae6aa",
   "metadata": {},
   "source": [
    "Now, find the due amount"
   ]
  },
  {
   "cell_type": "code",
   "execution_count": 93,
   "id": "c1f9f2a0",
   "metadata": {},
   "outputs": [],
   "source": [
    "due_amount['Balance']=due_amount['Spend']-due_amount['Repayment']"
   ]
  },
  {
   "cell_type": "markdown",
   "id": "8244ea89",
   "metadata": {},
   "source": [
    "The interest will only be on positive entries of Balance"
   ]
  },
  {
   "cell_type": "code",
   "execution_count": 94,
   "id": "2d6024a1",
   "metadata": {},
   "outputs": [],
   "source": [
    "interest_rate=2.9/100\n",
    "due_amount['Interest'] = due_amount['Balance'].apply(lambda x: x *interest_rate  if x > 0 else 0)\n",
    "due_amount['Due Amount'] = due_amount.apply(lambda row: row['Balance'] + row['Interest'] if row['Balance'] > 0 else 0,axis=1)"
   ]
  },
  {
   "cell_type": "markdown",
   "id": "7bbdf23a",
   "metadata": {},
   "source": [
    "### OUTPUT"
   ]
  },
  {
   "cell_type": "code",
   "execution_count": 95,
   "id": "16ec4f32",
   "metadata": {},
   "outputs": [
    {
     "data": {
      "text/html": [
       "<div>\n",
       "<style scoped>\n",
       "    .dataframe tbody tr th:only-of-type {\n",
       "        vertical-align: middle;\n",
       "    }\n",
       "\n",
       "    .dataframe tbody tr th {\n",
       "        vertical-align: top;\n",
       "    }\n",
       "\n",
       "    .dataframe thead th {\n",
       "        text-align: right;\n",
       "    }\n",
       "</style>\n",
       "<table border=\"1\" class=\"dataframe\">\n",
       "  <thead>\n",
       "    <tr style=\"text-align: right;\">\n",
       "      <th></th>\n",
       "      <th>Customer</th>\n",
       "      <th>Month</th>\n",
       "      <th>Spend</th>\n",
       "      <th>Repayment</th>\n",
       "      <th>Balance</th>\n",
       "      <th>Interest</th>\n",
       "      <th>Due Amount</th>\n",
       "    </tr>\n",
       "  </thead>\n",
       "  <tbody>\n",
       "    <tr>\n",
       "      <th>0</th>\n",
       "      <td>A1</td>\n",
       "      <td>2004-01-12</td>\n",
       "      <td>473776</td>\n",
       "      <td>331844.00740</td>\n",
       "      <td>141931.99260</td>\n",
       "      <td>4116.027785</td>\n",
       "      <td>146048.020385</td>\n",
       "    </tr>\n",
       "    <tr>\n",
       "      <th>1</th>\n",
       "      <td>A1</td>\n",
       "      <td>2004-01-03</td>\n",
       "      <td>335579</td>\n",
       "      <td>441139.80730</td>\n",
       "      <td>-105560.80730</td>\n",
       "      <td>0.000000</td>\n",
       "      <td>0.000000</td>\n",
       "    </tr>\n",
       "    <tr>\n",
       "      <th>2</th>\n",
       "      <td>A1</td>\n",
       "      <td>2004-01-15</td>\n",
       "      <td>371041</td>\n",
       "      <td>32480.00401</td>\n",
       "      <td>338560.99599</td>\n",
       "      <td>9818.268884</td>\n",
       "      <td>348379.264874</td>\n",
       "    </tr>\n",
       "    <tr>\n",
       "      <th>3</th>\n",
       "      <td>A1</td>\n",
       "      <td>2004-01-25</td>\n",
       "      <td>141178</td>\n",
       "      <td>90636.96653</td>\n",
       "      <td>50541.03347</td>\n",
       "      <td>1465.689971</td>\n",
       "      <td>52006.723441</td>\n",
       "    </tr>\n",
       "    <tr>\n",
       "      <th>4</th>\n",
       "      <td>A1</td>\n",
       "      <td>2004-01-12</td>\n",
       "      <td>52225</td>\n",
       "      <td>390074.79000</td>\n",
       "      <td>-337849.79000</td>\n",
       "      <td>0.000000</td>\n",
       "      <td>0.000000</td>\n",
       "    </tr>\n",
       "    <tr>\n",
       "      <th>...</th>\n",
       "      <td>...</td>\n",
       "      <td>...</td>\n",
       "      <td>...</td>\n",
       "      <td>...</td>\n",
       "      <td>...</td>\n",
       "      <td>...</td>\n",
       "      <td>...</td>\n",
       "    </tr>\n",
       "    <tr>\n",
       "      <th>1495</th>\n",
       "      <td>A96</td>\n",
       "      <td>2004-01-25</td>\n",
       "      <td>320364</td>\n",
       "      <td>110139.01410</td>\n",
       "      <td>210224.98590</td>\n",
       "      <td>6096.524591</td>\n",
       "      <td>216321.510491</td>\n",
       "    </tr>\n",
       "    <tr>\n",
       "      <th>1496</th>\n",
       "      <td>A97</td>\n",
       "      <td>2004-01-12</td>\n",
       "      <td>164330</td>\n",
       "      <td>174606.39230</td>\n",
       "      <td>-10276.39230</td>\n",
       "      <td>0.000000</td>\n",
       "      <td>0.000000</td>\n",
       "    </tr>\n",
       "    <tr>\n",
       "      <th>1497</th>\n",
       "      <td>A98</td>\n",
       "      <td>2004-01-03</td>\n",
       "      <td>87484</td>\n",
       "      <td>97802.59900</td>\n",
       "      <td>-10318.59900</td>\n",
       "      <td>0.000000</td>\n",
       "      <td>0.000000</td>\n",
       "    </tr>\n",
       "    <tr>\n",
       "      <th>1498</th>\n",
       "      <td>A99</td>\n",
       "      <td>2004-01-15</td>\n",
       "      <td>476020</td>\n",
       "      <td>358589.92430</td>\n",
       "      <td>117430.07570</td>\n",
       "      <td>3405.472195</td>\n",
       "      <td>120835.547895</td>\n",
       "    </tr>\n",
       "    <tr>\n",
       "      <th>1499</th>\n",
       "      <td>A100</td>\n",
       "      <td>2004-01-25</td>\n",
       "      <td>42254</td>\n",
       "      <td>151141.39190</td>\n",
       "      <td>-108887.39190</td>\n",
       "      <td>0.000000</td>\n",
       "      <td>0.000000</td>\n",
       "    </tr>\n",
       "  </tbody>\n",
       "</table>\n",
       "<p>1500 rows × 7 columns</p>\n",
       "</div>"
      ],
      "text/plain": [
       "     Customer      Month   Spend     Repayment       Balance     Interest  \\\n",
       "0          A1 2004-01-12  473776  331844.00740  141931.99260  4116.027785   \n",
       "1          A1 2004-01-03  335579  441139.80730 -105560.80730     0.000000   \n",
       "2          A1 2004-01-15  371041   32480.00401  338560.99599  9818.268884   \n",
       "3          A1 2004-01-25  141178   90636.96653   50541.03347  1465.689971   \n",
       "4          A1 2004-01-12   52225  390074.79000 -337849.79000     0.000000   \n",
       "...       ...        ...     ...           ...           ...          ...   \n",
       "1495      A96 2004-01-25  320364  110139.01410  210224.98590  6096.524591   \n",
       "1496      A97 2004-01-12  164330  174606.39230  -10276.39230     0.000000   \n",
       "1497      A98 2004-01-03   87484   97802.59900  -10318.59900     0.000000   \n",
       "1498      A99 2004-01-15  476020  358589.92430  117430.07570  3405.472195   \n",
       "1499     A100 2004-01-25   42254  151141.39190 -108887.39190     0.000000   \n",
       "\n",
       "         Due Amount  \n",
       "0     146048.020385  \n",
       "1          0.000000  \n",
       "2     348379.264874  \n",
       "3      52006.723441  \n",
       "4          0.000000  \n",
       "...             ...  \n",
       "1495  216321.510491  \n",
       "1496       0.000000  \n",
       "1497       0.000000  \n",
       "1498  120835.547895  \n",
       "1499       0.000000  \n",
       "\n",
       "[1500 rows x 7 columns]"
      ]
     },
     "execution_count": 95,
     "metadata": {},
     "output_type": "execute_result"
    }
   ],
   "source": [
    "due_amount"
   ]
  },
  {
   "cell_type": "markdown",
   "id": "454bc323",
   "metadata": {},
   "source": [
    "#### Save the dataframe in a new file"
   ]
  },
  {
   "cell_type": "code",
   "execution_count": 96,
   "id": "8b9a3ee2",
   "metadata": {},
   "outputs": [],
   "source": [
    "# due_amount.to_csv('Task8.csv')"
   ]
  },
  {
   "cell_type": "markdown",
   "id": "b80cc6a0",
   "metadata": {},
   "source": [
    "## Task 9- Monthly profit for the bank"
   ]
  },
  {
   "cell_type": "markdown",
   "id": "bfe15f94",
   "metadata": {},
   "source": [
    "To find the monthly profit, we just have to compute the balance of each customer transaction, interest on it and the amount to be paid by customers; but at the same time we have to take care of the people who have negative balance as that would decrease the monthly profit."
   ]
  },
  {
   "cell_type": "markdown",
   "id": "715044cf",
   "metadata": {},
   "source": [
    "Firstly, create a dataframe with both spent and repaid amount."
   ]
  },
  {
   "cell_type": "code",
   "execution_count": 97,
   "id": "d7b96231",
   "metadata": {},
   "outputs": [],
   "source": [
    "profit=spend.copy()\n",
    "profit.rename(columns={'Amount':'Spend'},inplace=True)\n",
    "col=repayment['Amount']\n",
    "profit['Repayment']=col\n",
    "profit.drop(columns=['Type','Month'],inplace=True)\n",
    "profit=profit[['Customer','year_month','Spend','Repayment']]"
   ]
  },
  {
   "cell_type": "code",
   "execution_count": 98,
   "id": "32dd42f0",
   "metadata": {
    "scrolled": true
   },
   "outputs": [
    {
     "data": {
      "text/html": [
       "<div>\n",
       "<style scoped>\n",
       "    .dataframe tbody tr th:only-of-type {\n",
       "        vertical-align: middle;\n",
       "    }\n",
       "\n",
       "    .dataframe tbody tr th {\n",
       "        vertical-align: top;\n",
       "    }\n",
       "\n",
       "    .dataframe thead th {\n",
       "        text-align: right;\n",
       "    }\n",
       "</style>\n",
       "<table border=\"1\" class=\"dataframe\">\n",
       "  <thead>\n",
       "    <tr style=\"text-align: right;\">\n",
       "      <th></th>\n",
       "      <th>Customer</th>\n",
       "      <th>year_month</th>\n",
       "      <th>Spend</th>\n",
       "      <th>Repayment</th>\n",
       "    </tr>\n",
       "  </thead>\n",
       "  <tbody>\n",
       "    <tr>\n",
       "      <th>0</th>\n",
       "      <td>A1</td>\n",
       "      <td>2004-01</td>\n",
       "      <td>473776</td>\n",
       "      <td>331844.00740</td>\n",
       "    </tr>\n",
       "    <tr>\n",
       "      <th>1</th>\n",
       "      <td>A1</td>\n",
       "      <td>2004-01</td>\n",
       "      <td>335579</td>\n",
       "      <td>441139.80730</td>\n",
       "    </tr>\n",
       "    <tr>\n",
       "      <th>2</th>\n",
       "      <td>A1</td>\n",
       "      <td>2004-01</td>\n",
       "      <td>371041</td>\n",
       "      <td>32480.00401</td>\n",
       "    </tr>\n",
       "    <tr>\n",
       "      <th>3</th>\n",
       "      <td>A1</td>\n",
       "      <td>2004-01</td>\n",
       "      <td>141178</td>\n",
       "      <td>90636.96653</td>\n",
       "    </tr>\n",
       "    <tr>\n",
       "      <th>4</th>\n",
       "      <td>A1</td>\n",
       "      <td>2004-01</td>\n",
       "      <td>52225</td>\n",
       "      <td>390074.79000</td>\n",
       "    </tr>\n",
       "  </tbody>\n",
       "</table>\n",
       "</div>"
      ],
      "text/plain": [
       "  Customer year_month   Spend     Repayment\n",
       "0       A1    2004-01  473776  331844.00740\n",
       "1       A1    2004-01  335579  441139.80730\n",
       "2       A1    2004-01  371041   32480.00401\n",
       "3       A1    2004-01  141178   90636.96653\n",
       "4       A1    2004-01   52225  390074.79000"
      ]
     },
     "execution_count": 98,
     "metadata": {},
     "output_type": "execute_result"
    }
   ],
   "source": [
    "profit.head()"
   ]
  },
  {
   "cell_type": "markdown",
   "id": "bb53d3fd",
   "metadata": {},
   "source": [
    "#### Calculate the necesaary profit/loss for each transaction"
   ]
  },
  {
   "cell_type": "code",
   "execution_count": 99,
   "id": "ed143937",
   "metadata": {},
   "outputs": [],
   "source": [
    "profit['Balance']=profit['Spend']-profit['Repayment']"
   ]
  },
  {
   "cell_type": "code",
   "execution_count": 100,
   "id": "22c6cc40",
   "metadata": {},
   "outputs": [],
   "source": [
    "interest_rate=2.9/100\n",
    "profit['Interest'] = profit['Balance'].apply(lambda x: x *interest_rate  if x > 0 else 0)\n",
    "profit['Profit/Loss'] = profit.apply(lambda row: row['Balance'] + row['Interest'] if row['Balance'] > 0 else row['Balance'],axis=1)"
   ]
  },
  {
   "cell_type": "code",
   "execution_count": 101,
   "id": "0b6bf184",
   "metadata": {
    "scrolled": false
   },
   "outputs": [
    {
     "data": {
      "text/html": [
       "<div>\n",
       "<style scoped>\n",
       "    .dataframe tbody tr th:only-of-type {\n",
       "        vertical-align: middle;\n",
       "    }\n",
       "\n",
       "    .dataframe tbody tr th {\n",
       "        vertical-align: top;\n",
       "    }\n",
       "\n",
       "    .dataframe thead th {\n",
       "        text-align: right;\n",
       "    }\n",
       "</style>\n",
       "<table border=\"1\" class=\"dataframe\">\n",
       "  <thead>\n",
       "    <tr style=\"text-align: right;\">\n",
       "      <th></th>\n",
       "      <th>Customer</th>\n",
       "      <th>year_month</th>\n",
       "      <th>Spend</th>\n",
       "      <th>Repayment</th>\n",
       "      <th>Balance</th>\n",
       "      <th>Interest</th>\n",
       "      <th>Profit/Loss</th>\n",
       "    </tr>\n",
       "  </thead>\n",
       "  <tbody>\n",
       "    <tr>\n",
       "      <th>0</th>\n",
       "      <td>A1</td>\n",
       "      <td>2004-01</td>\n",
       "      <td>473776</td>\n",
       "      <td>331844.00740</td>\n",
       "      <td>141931.99260</td>\n",
       "      <td>4116.027785</td>\n",
       "      <td>146048.020385</td>\n",
       "    </tr>\n",
       "    <tr>\n",
       "      <th>1</th>\n",
       "      <td>A1</td>\n",
       "      <td>2004-01</td>\n",
       "      <td>335579</td>\n",
       "      <td>441139.80730</td>\n",
       "      <td>-105560.80730</td>\n",
       "      <td>0.000000</td>\n",
       "      <td>-105560.807300</td>\n",
       "    </tr>\n",
       "    <tr>\n",
       "      <th>2</th>\n",
       "      <td>A1</td>\n",
       "      <td>2004-01</td>\n",
       "      <td>371041</td>\n",
       "      <td>32480.00401</td>\n",
       "      <td>338560.99599</td>\n",
       "      <td>9818.268884</td>\n",
       "      <td>348379.264874</td>\n",
       "    </tr>\n",
       "    <tr>\n",
       "      <th>3</th>\n",
       "      <td>A1</td>\n",
       "      <td>2004-01</td>\n",
       "      <td>141178</td>\n",
       "      <td>90636.96653</td>\n",
       "      <td>50541.03347</td>\n",
       "      <td>1465.689971</td>\n",
       "      <td>52006.723441</td>\n",
       "    </tr>\n",
       "    <tr>\n",
       "      <th>4</th>\n",
       "      <td>A1</td>\n",
       "      <td>2004-01</td>\n",
       "      <td>52225</td>\n",
       "      <td>390074.79000</td>\n",
       "      <td>-337849.79000</td>\n",
       "      <td>0.000000</td>\n",
       "      <td>-337849.790000</td>\n",
       "    </tr>\n",
       "  </tbody>\n",
       "</table>\n",
       "</div>"
      ],
      "text/plain": [
       "  Customer year_month   Spend     Repayment       Balance     Interest  \\\n",
       "0       A1    2004-01  473776  331844.00740  141931.99260  4116.027785   \n",
       "1       A1    2004-01  335579  441139.80730 -105560.80730     0.000000   \n",
       "2       A1    2004-01  371041   32480.00401  338560.99599  9818.268884   \n",
       "3       A1    2004-01  141178   90636.96653   50541.03347  1465.689971   \n",
       "4       A1    2004-01   52225  390074.79000 -337849.79000     0.000000   \n",
       "\n",
       "     Profit/Loss  \n",
       "0  146048.020385  \n",
       "1 -105560.807300  \n",
       "2  348379.264874  \n",
       "3   52006.723441  \n",
       "4 -337849.790000  "
      ]
     },
     "execution_count": 101,
     "metadata": {},
     "output_type": "execute_result"
    }
   ],
   "source": [
    "profit.head()"
   ]
  },
  {
   "cell_type": "markdown",
   "id": "8fef3427",
   "metadata": {},
   "source": [
    "#### Drop the unnecessary columns"
   ]
  },
  {
   "cell_type": "code",
   "execution_count": 102,
   "id": "7ef88b38",
   "metadata": {},
   "outputs": [],
   "source": [
    "profit.drop(columns=['Spend','Repayment','Balance','Interest'],inplace=True)"
   ]
  },
  {
   "cell_type": "code",
   "execution_count": 103,
   "id": "2274a411",
   "metadata": {},
   "outputs": [
    {
     "data": {
      "text/html": [
       "<div>\n",
       "<style scoped>\n",
       "    .dataframe tbody tr th:only-of-type {\n",
       "        vertical-align: middle;\n",
       "    }\n",
       "\n",
       "    .dataframe tbody tr th {\n",
       "        vertical-align: top;\n",
       "    }\n",
       "\n",
       "    .dataframe thead th {\n",
       "        text-align: right;\n",
       "    }\n",
       "</style>\n",
       "<table border=\"1\" class=\"dataframe\">\n",
       "  <thead>\n",
       "    <tr style=\"text-align: right;\">\n",
       "      <th></th>\n",
       "      <th>Customer</th>\n",
       "      <th>year_month</th>\n",
       "      <th>Profit/Loss</th>\n",
       "    </tr>\n",
       "  </thead>\n",
       "  <tbody>\n",
       "    <tr>\n",
       "      <th>0</th>\n",
       "      <td>A1</td>\n",
       "      <td>2004-01</td>\n",
       "      <td>146048.020385</td>\n",
       "    </tr>\n",
       "    <tr>\n",
       "      <th>1</th>\n",
       "      <td>A1</td>\n",
       "      <td>2004-01</td>\n",
       "      <td>-105560.807300</td>\n",
       "    </tr>\n",
       "    <tr>\n",
       "      <th>2</th>\n",
       "      <td>A1</td>\n",
       "      <td>2004-01</td>\n",
       "      <td>348379.264874</td>\n",
       "    </tr>\n",
       "    <tr>\n",
       "      <th>3</th>\n",
       "      <td>A1</td>\n",
       "      <td>2004-01</td>\n",
       "      <td>52006.723441</td>\n",
       "    </tr>\n",
       "    <tr>\n",
       "      <th>4</th>\n",
       "      <td>A1</td>\n",
       "      <td>2004-01</td>\n",
       "      <td>-337849.790000</td>\n",
       "    </tr>\n",
       "  </tbody>\n",
       "</table>\n",
       "</div>"
      ],
      "text/plain": [
       "  Customer year_month    Profit/Loss\n",
       "0       A1    2004-01  146048.020385\n",
       "1       A1    2004-01 -105560.807300\n",
       "2       A1    2004-01  348379.264874\n",
       "3       A1    2004-01   52006.723441\n",
       "4       A1    2004-01 -337849.790000"
      ]
     },
     "execution_count": 103,
     "metadata": {},
     "output_type": "execute_result"
    }
   ],
   "source": [
    "profit.head()"
   ]
  },
  {
   "cell_type": "markdown",
   "id": "34b869d6",
   "metadata": {},
   "source": [
    "Now we have the profit/loss for each transaction and all we have to do is just find the monthly profit."
   ]
  },
  {
   "cell_type": "code",
   "execution_count": 104,
   "id": "560b0648",
   "metadata": {},
   "outputs": [],
   "source": [
    "monthly_profit = profit.groupby([ 'year_month']).sum('Profit/Loss').reset_index()\n",
    "monthly_profit=monthly_profit.round()"
   ]
  },
  {
   "cell_type": "markdown",
   "id": "6e689ffa",
   "metadata": {},
   "source": [
    "#### Make it more appropriate to see"
   ]
  },
  {
   "cell_type": "code",
   "execution_count": 105,
   "id": "dc9c2876",
   "metadata": {},
   "outputs": [],
   "source": [
    "monthly_profit['year_month']=pd.to_datetime(monthly_profit['year_month'])\n",
    "monthly_profit['Year'] = monthly_profit['year_month'].dt.year\n",
    "monthly_profit['Month'] = monthly_profit['year_month'].dt.month\n",
    "monthly_profit['Month'] = monthly_profit['Month'].apply(lambda x: calendar.month_name[x])\n",
    "monthly_profit.drop(columns=['year_month'],inplace=True)\n",
    "monthly_profit = monthly_profit[['Month', 'Year', 'Profit/Loss']]\n",
    "monthly_profit['Month'] = monthly_profit['Month'].astype(str) + '-' + monthly_profit['Year'].astype(str)\n",
    "monthly_profit.drop(columns=['Year'],inplace=True)\n",
    "monthly_profit.reset_index(drop=True, inplace=True)"
   ]
  },
  {
   "cell_type": "markdown",
   "id": "bb0a0ecb",
   "metadata": {},
   "source": [
    "### OUTPUT"
   ]
  },
  {
   "cell_type": "code",
   "execution_count": 106,
   "id": "02e4be1b",
   "metadata": {},
   "outputs": [
    {
     "data": {
      "text/html": [
       "<div>\n",
       "<style scoped>\n",
       "    .dataframe tbody tr th:only-of-type {\n",
       "        vertical-align: middle;\n",
       "    }\n",
       "\n",
       "    .dataframe tbody tr th {\n",
       "        vertical-align: top;\n",
       "    }\n",
       "\n",
       "    .dataframe thead th {\n",
       "        text-align: right;\n",
       "    }\n",
       "</style>\n",
       "<table border=\"1\" class=\"dataframe\">\n",
       "  <thead>\n",
       "    <tr style=\"text-align: right;\">\n",
       "      <th></th>\n",
       "      <th>Month</th>\n",
       "      <th>Profit/Loss</th>\n",
       "    </tr>\n",
       "  </thead>\n",
       "  <tbody>\n",
       "    <tr>\n",
       "      <th>0</th>\n",
       "      <td>January-2004</td>\n",
       "      <td>3713226.0</td>\n",
       "    </tr>\n",
       "    <tr>\n",
       "      <th>1</th>\n",
       "      <td>February-2004</td>\n",
       "      <td>1297652.0</td>\n",
       "    </tr>\n",
       "    <tr>\n",
       "      <th>2</th>\n",
       "      <td>March-2004</td>\n",
       "      <td>-651141.0</td>\n",
       "    </tr>\n",
       "    <tr>\n",
       "      <th>3</th>\n",
       "      <td>April-2004</td>\n",
       "      <td>-370756.0</td>\n",
       "    </tr>\n",
       "    <tr>\n",
       "      <th>4</th>\n",
       "      <td>May-2004</td>\n",
       "      <td>1019093.0</td>\n",
       "    </tr>\n",
       "    <tr>\n",
       "      <th>5</th>\n",
       "      <td>September-2004</td>\n",
       "      <td>332868.0</td>\n",
       "    </tr>\n",
       "    <tr>\n",
       "      <th>6</th>\n",
       "      <td>November-2004</td>\n",
       "      <td>39817.0</td>\n",
       "    </tr>\n",
       "    <tr>\n",
       "      <th>7</th>\n",
       "      <td>January-2005</td>\n",
       "      <td>185289.0</td>\n",
       "    </tr>\n",
       "    <tr>\n",
       "      <th>8</th>\n",
       "      <td>February-2005</td>\n",
       "      <td>-899428.0</td>\n",
       "    </tr>\n",
       "    <tr>\n",
       "      <th>9</th>\n",
       "      <td>April-2005</td>\n",
       "      <td>1223768.0</td>\n",
       "    </tr>\n",
       "    <tr>\n",
       "      <th>10</th>\n",
       "      <td>May-2005</td>\n",
       "      <td>2198432.0</td>\n",
       "    </tr>\n",
       "    <tr>\n",
       "      <th>11</th>\n",
       "      <td>June-2005</td>\n",
       "      <td>1866545.0</td>\n",
       "    </tr>\n",
       "    <tr>\n",
       "      <th>12</th>\n",
       "      <td>July-2005</td>\n",
       "      <td>260054.0</td>\n",
       "    </tr>\n",
       "    <tr>\n",
       "      <th>13</th>\n",
       "      <td>August-2005</td>\n",
       "      <td>1492116.0</td>\n",
       "    </tr>\n",
       "    <tr>\n",
       "      <th>14</th>\n",
       "      <td>September-2005</td>\n",
       "      <td>-660203.0</td>\n",
       "    </tr>\n",
       "    <tr>\n",
       "      <th>15</th>\n",
       "      <td>October-2005</td>\n",
       "      <td>-382431.0</td>\n",
       "    </tr>\n",
       "    <tr>\n",
       "      <th>16</th>\n",
       "      <td>November-2005</td>\n",
       "      <td>1462482.0</td>\n",
       "    </tr>\n",
       "    <tr>\n",
       "      <th>17</th>\n",
       "      <td>December-2005</td>\n",
       "      <td>-654046.0</td>\n",
       "    </tr>\n",
       "    <tr>\n",
       "      <th>18</th>\n",
       "      <td>January-2006</td>\n",
       "      <td>-111801.0</td>\n",
       "    </tr>\n",
       "    <tr>\n",
       "      <th>19</th>\n",
       "      <td>February-2006</td>\n",
       "      <td>-594606.0</td>\n",
       "    </tr>\n",
       "    <tr>\n",
       "      <th>20</th>\n",
       "      <td>March-2006</td>\n",
       "      <td>-1880890.0</td>\n",
       "    </tr>\n",
       "    <tr>\n",
       "      <th>21</th>\n",
       "      <td>April-2006</td>\n",
       "      <td>2879285.0</td>\n",
       "    </tr>\n",
       "    <tr>\n",
       "      <th>22</th>\n",
       "      <td>May-2006</td>\n",
       "      <td>51059.0</td>\n",
       "    </tr>\n",
       "    <tr>\n",
       "      <th>23</th>\n",
       "      <td>June-2006</td>\n",
       "      <td>423878.0</td>\n",
       "    </tr>\n",
       "    <tr>\n",
       "      <th>24</th>\n",
       "      <td>July-2006</td>\n",
       "      <td>1401787.0</td>\n",
       "    </tr>\n",
       "    <tr>\n",
       "      <th>25</th>\n",
       "      <td>August-2006</td>\n",
       "      <td>-705441.0</td>\n",
       "    </tr>\n",
       "    <tr>\n",
       "      <th>26</th>\n",
       "      <td>September-2006</td>\n",
       "      <td>1077472.0</td>\n",
       "    </tr>\n",
       "    <tr>\n",
       "      <th>27</th>\n",
       "      <td>October-2006</td>\n",
       "      <td>475195.0</td>\n",
       "    </tr>\n",
       "    <tr>\n",
       "      <th>28</th>\n",
       "      <td>November-2006</td>\n",
       "      <td>109068.0</td>\n",
       "    </tr>\n",
       "    <tr>\n",
       "      <th>29</th>\n",
       "      <td>December-2006</td>\n",
       "      <td>-653563.0</td>\n",
       "    </tr>\n",
       "  </tbody>\n",
       "</table>\n",
       "</div>"
      ],
      "text/plain": [
       "             Month  Profit/Loss\n",
       "0     January-2004    3713226.0\n",
       "1    February-2004    1297652.0\n",
       "2       March-2004    -651141.0\n",
       "3       April-2004    -370756.0\n",
       "4         May-2004    1019093.0\n",
       "5   September-2004     332868.0\n",
       "6    November-2004      39817.0\n",
       "7     January-2005     185289.0\n",
       "8    February-2005    -899428.0\n",
       "9       April-2005    1223768.0\n",
       "10        May-2005    2198432.0\n",
       "11       June-2005    1866545.0\n",
       "12       July-2005     260054.0\n",
       "13     August-2005    1492116.0\n",
       "14  September-2005    -660203.0\n",
       "15    October-2005    -382431.0\n",
       "16   November-2005    1462482.0\n",
       "17   December-2005    -654046.0\n",
       "18    January-2006    -111801.0\n",
       "19   February-2006    -594606.0\n",
       "20      March-2006   -1880890.0\n",
       "21      April-2006    2879285.0\n",
       "22        May-2006      51059.0\n",
       "23       June-2006     423878.0\n",
       "24       July-2006    1401787.0\n",
       "25     August-2006    -705441.0\n",
       "26  September-2006    1077472.0\n",
       "27    October-2006     475195.0\n",
       "28   November-2006     109068.0\n",
       "29   December-2006    -653563.0"
      ]
     },
     "execution_count": 106,
     "metadata": {},
     "output_type": "execute_result"
    }
   ],
   "source": [
    "monthly_profit"
   ]
  },
  {
   "cell_type": "markdown",
   "id": "3b757e4c",
   "metadata": {},
   "source": [
    "Please note that the negative enteries in the column indicate that there has been a net loss in the respective month."
   ]
  },
  {
   "cell_type": "markdown",
   "id": "ebb19a7d",
   "metadata": {},
   "source": [
    "#### Save the dataframe in a new file"
   ]
  },
  {
   "cell_type": "code",
   "execution_count": 107,
   "id": "7fb2cc14",
   "metadata": {},
   "outputs": [],
   "source": [
    "# monthly_profit.to_csv('Task9.csv')"
   ]
  }
 ],
 "metadata": {
  "kernelspec": {
   "display_name": "Python 3 (ipykernel)",
   "language": "python",
   "name": "python3"
  },
  "language_info": {
   "codemirror_mode": {
    "name": "ipython",
    "version": 3
   },
   "file_extension": ".py",
   "mimetype": "text/x-python",
   "name": "python",
   "nbconvert_exporter": "python",
   "pygments_lexer": "ipython3",
   "version": "3.9.12"
  }
 },
 "nbformat": 4,
 "nbformat_minor": 5
}
